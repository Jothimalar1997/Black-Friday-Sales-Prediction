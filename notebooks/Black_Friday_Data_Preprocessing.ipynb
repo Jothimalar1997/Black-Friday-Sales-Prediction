{
  "nbformat": 4,
  "nbformat_minor": 0,
  "metadata": {
    "colab": {
      "provenance": []
    },
    "kernelspec": {
      "name": "python3",
      "display_name": "Python 3"
    },
    "language_info": {
      "name": "python"
    }
  },
  "cells": [
    {
      "cell_type": "code",
      "execution_count": 1,
      "metadata": {
        "id": "Mb9MvoL2zesP"
      },
      "outputs": [],
      "source": [
        "import pandas as pd\n",
        "import numpy as np\n",
        "import matplotlib.pyplot as plt\n",
        "import seaborn as sns\n",
        "import warnings\n",
        "warnings.filterwarnings('ignore')"
      ]
    },
    {
      "cell_type": "code",
      "source": [
        "# Loading the dataset\n",
        "df=pd.read_csv(\"train.csv\")\n",
        "df.head()"
      ],
      "metadata": {
        "colab": {
          "base_uri": "https://localhost:8080/",
          "height": 339
        },
        "id": "oV0mV8wMzsdP",
        "outputId": "241ce444-f73c-442c-fd6c-5a0dc8397d30"
      },
      "execution_count": 2,
      "outputs": [
        {
          "output_type": "execute_result",
          "data": {
            "text/plain": [
              "   User_ID Product_ID Gender   Age  Occupation City_Category  \\\n",
              "0  1000001  P00069042      F  0-17          10             A   \n",
              "1  1000001  P00248942      F  0-17          10             A   \n",
              "2  1000001  P00087842      F  0-17          10             A   \n",
              "3  1000001  P00085442      F  0-17          10             A   \n",
              "4  1000002  P00285442      M   55+          16             C   \n",
              "\n",
              "  Stay_In_Current_City_Years  Marital_Status  Product_Category_1  \\\n",
              "0                          2               0                   3   \n",
              "1                          2               0                   1   \n",
              "2                          2               0                  12   \n",
              "3                          2               0                  12   \n",
              "4                         4+               0                   8   \n",
              "\n",
              "   Product_Category_2  Product_Category_3  Purchase  \n",
              "0                 NaN                 NaN      8370  \n",
              "1                 6.0                14.0     15200  \n",
              "2                 NaN                 NaN      1422  \n",
              "3                14.0                 NaN      1057  \n",
              "4                 NaN                 NaN      7969  "
            ],
            "text/html": [
              "\n",
              "\n",
              "  <div id=\"df-9e4fab54-ddf9-4532-bdd5-f1a7678f238f\">\n",
              "    <div class=\"colab-df-container\">\n",
              "      <div>\n",
              "<style scoped>\n",
              "    .dataframe tbody tr th:only-of-type {\n",
              "        vertical-align: middle;\n",
              "    }\n",
              "\n",
              "    .dataframe tbody tr th {\n",
              "        vertical-align: top;\n",
              "    }\n",
              "\n",
              "    .dataframe thead th {\n",
              "        text-align: right;\n",
              "    }\n",
              "</style>\n",
              "<table border=\"1\" class=\"dataframe\">\n",
              "  <thead>\n",
              "    <tr style=\"text-align: right;\">\n",
              "      <th></th>\n",
              "      <th>User_ID</th>\n",
              "      <th>Product_ID</th>\n",
              "      <th>Gender</th>\n",
              "      <th>Age</th>\n",
              "      <th>Occupation</th>\n",
              "      <th>City_Category</th>\n",
              "      <th>Stay_In_Current_City_Years</th>\n",
              "      <th>Marital_Status</th>\n",
              "      <th>Product_Category_1</th>\n",
              "      <th>Product_Category_2</th>\n",
              "      <th>Product_Category_3</th>\n",
              "      <th>Purchase</th>\n",
              "    </tr>\n",
              "  </thead>\n",
              "  <tbody>\n",
              "    <tr>\n",
              "      <th>0</th>\n",
              "      <td>1000001</td>\n",
              "      <td>P00069042</td>\n",
              "      <td>F</td>\n",
              "      <td>0-17</td>\n",
              "      <td>10</td>\n",
              "      <td>A</td>\n",
              "      <td>2</td>\n",
              "      <td>0</td>\n",
              "      <td>3</td>\n",
              "      <td>NaN</td>\n",
              "      <td>NaN</td>\n",
              "      <td>8370</td>\n",
              "    </tr>\n",
              "    <tr>\n",
              "      <th>1</th>\n",
              "      <td>1000001</td>\n",
              "      <td>P00248942</td>\n",
              "      <td>F</td>\n",
              "      <td>0-17</td>\n",
              "      <td>10</td>\n",
              "      <td>A</td>\n",
              "      <td>2</td>\n",
              "      <td>0</td>\n",
              "      <td>1</td>\n",
              "      <td>6.0</td>\n",
              "      <td>14.0</td>\n",
              "      <td>15200</td>\n",
              "    </tr>\n",
              "    <tr>\n",
              "      <th>2</th>\n",
              "      <td>1000001</td>\n",
              "      <td>P00087842</td>\n",
              "      <td>F</td>\n",
              "      <td>0-17</td>\n",
              "      <td>10</td>\n",
              "      <td>A</td>\n",
              "      <td>2</td>\n",
              "      <td>0</td>\n",
              "      <td>12</td>\n",
              "      <td>NaN</td>\n",
              "      <td>NaN</td>\n",
              "      <td>1422</td>\n",
              "    </tr>\n",
              "    <tr>\n",
              "      <th>3</th>\n",
              "      <td>1000001</td>\n",
              "      <td>P00085442</td>\n",
              "      <td>F</td>\n",
              "      <td>0-17</td>\n",
              "      <td>10</td>\n",
              "      <td>A</td>\n",
              "      <td>2</td>\n",
              "      <td>0</td>\n",
              "      <td>12</td>\n",
              "      <td>14.0</td>\n",
              "      <td>NaN</td>\n",
              "      <td>1057</td>\n",
              "    </tr>\n",
              "    <tr>\n",
              "      <th>4</th>\n",
              "      <td>1000002</td>\n",
              "      <td>P00285442</td>\n",
              "      <td>M</td>\n",
              "      <td>55+</td>\n",
              "      <td>16</td>\n",
              "      <td>C</td>\n",
              "      <td>4+</td>\n",
              "      <td>0</td>\n",
              "      <td>8</td>\n",
              "      <td>NaN</td>\n",
              "      <td>NaN</td>\n",
              "      <td>7969</td>\n",
              "    </tr>\n",
              "  </tbody>\n",
              "</table>\n",
              "</div>\n",
              "      <button class=\"colab-df-convert\" onclick=\"convertToInteractive('df-9e4fab54-ddf9-4532-bdd5-f1a7678f238f')\"\n",
              "              title=\"Convert this dataframe to an interactive table.\"\n",
              "              style=\"display:none;\">\n",
              "\n",
              "  <svg xmlns=\"http://www.w3.org/2000/svg\" height=\"24px\"viewBox=\"0 0 24 24\"\n",
              "       width=\"24px\">\n",
              "    <path d=\"M0 0h24v24H0V0z\" fill=\"none\"/>\n",
              "    <path d=\"M18.56 5.44l.94 2.06.94-2.06 2.06-.94-2.06-.94-.94-2.06-.94 2.06-2.06.94zm-11 1L8.5 8.5l.94-2.06 2.06-.94-2.06-.94L8.5 2.5l-.94 2.06-2.06.94zm10 10l.94 2.06.94-2.06 2.06-.94-2.06-.94-.94-2.06-.94 2.06-2.06.94z\"/><path d=\"M17.41 7.96l-1.37-1.37c-.4-.4-.92-.59-1.43-.59-.52 0-1.04.2-1.43.59L10.3 9.45l-7.72 7.72c-.78.78-.78 2.05 0 2.83L4 21.41c.39.39.9.59 1.41.59.51 0 1.02-.2 1.41-.59l7.78-7.78 2.81-2.81c.8-.78.8-2.07 0-2.86zM5.41 20L4 18.59l7.72-7.72 1.47 1.35L5.41 20z\"/>\n",
              "  </svg>\n",
              "      </button>\n",
              "\n",
              "\n",
              "\n",
              "    <div id=\"df-69687de3-f2f7-47e4-b982-d533566cfbfe\">\n",
              "      <button class=\"colab-df-quickchart\" onclick=\"quickchart('df-69687de3-f2f7-47e4-b982-d533566cfbfe')\"\n",
              "              title=\"Suggest charts.\"\n",
              "              style=\"display:none;\">\n",
              "\n",
              "<svg xmlns=\"http://www.w3.org/2000/svg\" height=\"24px\"viewBox=\"0 0 24 24\"\n",
              "     width=\"24px\">\n",
              "    <g>\n",
              "        <path d=\"M19 3H5c-1.1 0-2 .9-2 2v14c0 1.1.9 2 2 2h14c1.1 0 2-.9 2-2V5c0-1.1-.9-2-2-2zM9 17H7v-7h2v7zm4 0h-2V7h2v10zm4 0h-2v-4h2v4z\"/>\n",
              "    </g>\n",
              "</svg>\n",
              "      </button>\n",
              "    </div>\n",
              "\n",
              "<style>\n",
              "  .colab-df-quickchart {\n",
              "    background-color: #E8F0FE;\n",
              "    border: none;\n",
              "    border-radius: 50%;\n",
              "    cursor: pointer;\n",
              "    display: none;\n",
              "    fill: #1967D2;\n",
              "    height: 32px;\n",
              "    padding: 0 0 0 0;\n",
              "    width: 32px;\n",
              "  }\n",
              "\n",
              "  .colab-df-quickchart:hover {\n",
              "    background-color: #E2EBFA;\n",
              "    box-shadow: 0px 1px 2px rgba(60, 64, 67, 0.3), 0px 1px 3px 1px rgba(60, 64, 67, 0.15);\n",
              "    fill: #174EA6;\n",
              "  }\n",
              "\n",
              "  [theme=dark] .colab-df-quickchart {\n",
              "    background-color: #3B4455;\n",
              "    fill: #D2E3FC;\n",
              "  }\n",
              "\n",
              "  [theme=dark] .colab-df-quickchart:hover {\n",
              "    background-color: #434B5C;\n",
              "    box-shadow: 0px 1px 3px 1px rgba(0, 0, 0, 0.15);\n",
              "    filter: drop-shadow(0px 1px 2px rgba(0, 0, 0, 0.3));\n",
              "    fill: #FFFFFF;\n",
              "  }\n",
              "</style>\n",
              "\n",
              "    <script>\n",
              "      async function quickchart(key) {\n",
              "        const containerElement = document.querySelector('#' + key);\n",
              "        const charts = await google.colab.kernel.invokeFunction(\n",
              "            'suggestCharts', [key], {});\n",
              "      }\n",
              "    </script>\n",
              "\n",
              "      <script>\n",
              "\n",
              "function displayQuickchartButton(domScope) {\n",
              "  let quickchartButtonEl =\n",
              "    domScope.querySelector('#df-69687de3-f2f7-47e4-b982-d533566cfbfe button.colab-df-quickchart');\n",
              "  quickchartButtonEl.style.display =\n",
              "    google.colab.kernel.accessAllowed ? 'block' : 'none';\n",
              "}\n",
              "\n",
              "        displayQuickchartButton(document);\n",
              "      </script>\n",
              "      <style>\n",
              "    .colab-df-container {\n",
              "      display:flex;\n",
              "      flex-wrap:wrap;\n",
              "      gap: 12px;\n",
              "    }\n",
              "\n",
              "    .colab-df-convert {\n",
              "      background-color: #E8F0FE;\n",
              "      border: none;\n",
              "      border-radius: 50%;\n",
              "      cursor: pointer;\n",
              "      display: none;\n",
              "      fill: #1967D2;\n",
              "      height: 32px;\n",
              "      padding: 0 0 0 0;\n",
              "      width: 32px;\n",
              "    }\n",
              "\n",
              "    .colab-df-convert:hover {\n",
              "      background-color: #E2EBFA;\n",
              "      box-shadow: 0px 1px 2px rgba(60, 64, 67, 0.3), 0px 1px 3px 1px rgba(60, 64, 67, 0.15);\n",
              "      fill: #174EA6;\n",
              "    }\n",
              "\n",
              "    [theme=dark] .colab-df-convert {\n",
              "      background-color: #3B4455;\n",
              "      fill: #D2E3FC;\n",
              "    }\n",
              "\n",
              "    [theme=dark] .colab-df-convert:hover {\n",
              "      background-color: #434B5C;\n",
              "      box-shadow: 0px 1px 3px 1px rgba(0, 0, 0, 0.15);\n",
              "      filter: drop-shadow(0px 1px 2px rgba(0, 0, 0, 0.3));\n",
              "      fill: #FFFFFF;\n",
              "    }\n",
              "  </style>\n",
              "\n",
              "      <script>\n",
              "        const buttonEl =\n",
              "          document.querySelector('#df-9e4fab54-ddf9-4532-bdd5-f1a7678f238f button.colab-df-convert');\n",
              "        buttonEl.style.display =\n",
              "          google.colab.kernel.accessAllowed ? 'block' : 'none';\n",
              "\n",
              "        async function convertToInteractive(key) {\n",
              "          const element = document.querySelector('#df-9e4fab54-ddf9-4532-bdd5-f1a7678f238f');\n",
              "          const dataTable =\n",
              "            await google.colab.kernel.invokeFunction('convertToInteractive',\n",
              "                                                     [key], {});\n",
              "          if (!dataTable) return;\n",
              "\n",
              "          const docLinkHtml = 'Like what you see? Visit the ' +\n",
              "            '<a target=\"_blank\" href=https://colab.research.google.com/notebooks/data_table.ipynb>data table notebook</a>'\n",
              "            + ' to learn more about interactive tables.';\n",
              "          element.innerHTML = '';\n",
              "          dataTable['output_type'] = 'display_data';\n",
              "          await google.colab.output.renderOutput(dataTable, element);\n",
              "          const docLink = document.createElement('div');\n",
              "          docLink.innerHTML = docLinkHtml;\n",
              "          element.appendChild(docLink);\n",
              "        }\n",
              "      </script>\n",
              "    </div>\n",
              "  </div>\n"
            ]
          },
          "metadata": {},
          "execution_count": 2
        }
      ]
    },
    {
      "cell_type": "code",
      "source": [
        "# To check number of the duplicate records in the dataset\n",
        "df.duplicated().sum()"
      ],
      "metadata": {
        "colab": {
          "base_uri": "https://localhost:8080/"
        },
        "id": "CWFNsL4cWr6K",
        "outputId": "cc5ff47f-7906-49d8-a3b1-d1d94dea25fd"
      },
      "execution_count": 3,
      "outputs": [
        {
          "output_type": "execute_result",
          "data": {
            "text/plain": [
              "0"
            ]
          },
          "metadata": {},
          "execution_count": 3
        }
      ]
    },
    {
      "cell_type": "code",
      "source": [
        "# Dropping the duplicate records:\n",
        "df=df.drop_duplicates(keep='first')"
      ],
      "metadata": {
        "id": "4YO_Ufj1WyXB"
      },
      "execution_count": 4,
      "outputs": []
    },
    {
      "cell_type": "code",
      "source": [
        "df.duplicated().sum()"
      ],
      "metadata": {
        "colab": {
          "base_uri": "https://localhost:8080/"
        },
        "id": "ItR2BiLbW3Mx",
        "outputId": "bae31acd-0689-413b-c1fe-f6fb9f880344"
      },
      "execution_count": 5,
      "outputs": [
        {
          "output_type": "execute_result",
          "data": {
            "text/plain": [
              "0"
            ]
          },
          "metadata": {},
          "execution_count": 5
        }
      ]
    },
    {
      "cell_type": "code",
      "source": [
        "# Splitting Dependent and Independent features:\n",
        "target_column_name = 'Purchase'\n",
        "drop_columns = [target_column_name,'User_ID','Product_ID']\n",
        "X=df.drop(columns=drop_columns,axis=1)\n",
        "y=df[target_column_name]"
      ],
      "metadata": {
        "id": "IsR8kfs8zsgA"
      },
      "execution_count": 6,
      "outputs": []
    },
    {
      "cell_type": "code",
      "source": [
        "X.info()"
      ],
      "metadata": {
        "colab": {
          "base_uri": "https://localhost:8080/"
        },
        "id": "5qYN7x8I1GSQ",
        "outputId": "62c74e79-246e-4490-d585-1fe8461efd93"
      },
      "execution_count": 7,
      "outputs": [
        {
          "output_type": "stream",
          "name": "stdout",
          "text": [
            "<class 'pandas.core.frame.DataFrame'>\n",
            "Int64Index: 550068 entries, 0 to 550067\n",
            "Data columns (total 9 columns):\n",
            " #   Column                      Non-Null Count   Dtype  \n",
            "---  ------                      --------------   -----  \n",
            " 0   Gender                      550068 non-null  object \n",
            " 1   Age                         550068 non-null  object \n",
            " 2   Occupation                  550068 non-null  int64  \n",
            " 3   City_Category               550068 non-null  object \n",
            " 4   Stay_In_Current_City_Years  550068 non-null  object \n",
            " 5   Marital_Status              550068 non-null  int64  \n",
            " 6   Product_Category_1          550068 non-null  int64  \n",
            " 7   Product_Category_2          376430 non-null  float64\n",
            " 8   Product_Category_3          166821 non-null  float64\n",
            "dtypes: float64(2), int64(3), object(4)\n",
            "memory usage: 42.0+ MB\n"
          ]
        }
      ]
    },
    {
      "cell_type": "code",
      "source": [
        "X['Occupation']=X['Occupation'].astype('object')\n",
        "X['Marital_Status']=X['Marital_Status'].astype('object')\n",
        "X['Product_Category_1']=X['Product_Category_1'].astype('object')\n",
        "X['Product_Category_2']=X['Product_Category_2'].astype('object')\n",
        "X['Product_Category_3']=X['Product_Category_3'].astype('object')"
      ],
      "metadata": {
        "id": "amPpIsfJzsi_"
      },
      "execution_count": 8,
      "outputs": []
    },
    {
      "cell_type": "code",
      "source": [
        "X.info()"
      ],
      "metadata": {
        "colab": {
          "base_uri": "https://localhost:8080/"
        },
        "id": "ToHZZoov0Ozm",
        "outputId": "3019661d-9093-4fe3-a2c0-5399cf3fb180"
      },
      "execution_count": 9,
      "outputs": [
        {
          "output_type": "stream",
          "name": "stdout",
          "text": [
            "<class 'pandas.core.frame.DataFrame'>\n",
            "Int64Index: 550068 entries, 0 to 550067\n",
            "Data columns (total 9 columns):\n",
            " #   Column                      Non-Null Count   Dtype \n",
            "---  ------                      --------------   ----- \n",
            " 0   Gender                      550068 non-null  object\n",
            " 1   Age                         550068 non-null  object\n",
            " 2   Occupation                  550068 non-null  object\n",
            " 3   City_Category               550068 non-null  object\n",
            " 4   Stay_In_Current_City_Years  550068 non-null  object\n",
            " 5   Marital_Status              550068 non-null  object\n",
            " 6   Product_Category_1          550068 non-null  object\n",
            " 7   Product_Category_2          376430 non-null  object\n",
            " 8   Product_Category_3          166821 non-null  object\n",
            "dtypes: object(9)\n",
            "memory usage: 42.0+ MB\n"
          ]
        }
      ]
    },
    {
      "cell_type": "code",
      "source": [
        "# To check number of missing values in the dataset\n",
        "X.isnull().sum()"
      ],
      "metadata": {
        "colab": {
          "base_uri": "https://localhost:8080/"
        },
        "id": "hzAR_dHC0Ix-",
        "outputId": "c82d15b1-0a7a-4753-9063-d766dcc3bb68"
      },
      "execution_count": 10,
      "outputs": [
        {
          "output_type": "execute_result",
          "data": {
            "text/plain": [
              "Gender                             0\n",
              "Age                                0\n",
              "Occupation                         0\n",
              "City_Category                      0\n",
              "Stay_In_Current_City_Years         0\n",
              "Marital_Status                     0\n",
              "Product_Category_1                 0\n",
              "Product_Category_2            173638\n",
              "Product_Category_3            383247\n",
              "dtype: int64"
            ]
          },
          "metadata": {},
          "execution_count": 10
        }
      ]
    },
    {
      "cell_type": "code",
      "source": [
        "X['Product_Category_2'].unique()"
      ],
      "metadata": {
        "colab": {
          "base_uri": "https://localhost:8080/"
        },
        "id": "H_w6vqlA52BE",
        "outputId": "a7a0376b-535b-4efd-e41e-d0fc48b92826"
      },
      "execution_count": 11,
      "outputs": [
        {
          "output_type": "execute_result",
          "data": {
            "text/plain": [
              "array([nan, 6.0, 14.0, 2.0, 8.0, 15.0, 16.0, 11.0, 5.0, 3.0, 4.0, 12.0,\n",
              "       9.0, 10.0, 17.0, 13.0, 7.0, 18.0], dtype=object)"
            ]
          },
          "metadata": {},
          "execution_count": 11
        }
      ]
    },
    {
      "cell_type": "code",
      "source": [
        "X['Product_Category_3'].unique()"
      ],
      "metadata": {
        "colab": {
          "base_uri": "https://localhost:8080/"
        },
        "id": "XctkAMue6_8d",
        "outputId": "80e28fe7-77e9-46f7-9bb5-71df76fd56c8"
      },
      "execution_count": 12,
      "outputs": [
        {
          "output_type": "execute_result",
          "data": {
            "text/plain": [
              "array([nan, 14.0, 17.0, 5.0, 4.0, 16.0, 15.0, 8.0, 9.0, 13.0, 6.0, 12.0,\n",
              "       3.0, 18.0, 11.0, 10.0], dtype=object)"
            ]
          },
          "metadata": {},
          "execution_count": 12
        }
      ]
    },
    {
      "cell_type": "code",
      "source": [
        "# Train Test Split\n",
        "from sklearn.model_selection import train_test_split\n",
        "X_train,X_test,y_train,y_test=train_test_split(X,y,test_size=0.25,random_state=42)"
      ],
      "metadata": {
        "id": "-MiWyEBuhUd1"
      },
      "execution_count": 13,
      "outputs": []
    },
    {
      "cell_type": "code",
      "source": [
        "X_train.shape,X_test.shape,y_train.shape,y_test.shape"
      ],
      "metadata": {
        "colab": {
          "base_uri": "https://localhost:8080/"
        },
        "id": "EnRKgTWUhUlV",
        "outputId": "048d9c68-3cac-40ab-d906-b41aae982944"
      },
      "execution_count": 14,
      "outputs": [
        {
          "output_type": "execute_result",
          "data": {
            "text/plain": [
              "((412551, 9), (137517, 9), (412551,), (137517,))"
            ]
          },
          "metadata": {},
          "execution_count": 14
        }
      ]
    },
    {
      "cell_type": "code",
      "source": [
        "#Pipeline Creation:\n",
        "from sklearn.compose import ColumnTransformer\n",
        "from sklearn.impute import SimpleImputer\n",
        "from sklearn.pipeline import Pipeline\n",
        "from sklearn.preprocessing import OrdinalEncoder,StandardScaler\n",
        "\n",
        "# Define the categorical and numerical columns\n",
        "categorical_cols = ['Gender','Age','Occupation','City_Category','Stay_In_Current_City_Years','Marital_Status','Product_Category_1','Product_Category_2','Product_Category_3']\n",
        "# Define the custom ranking for each ordinal variable\n",
        "age_categories = ['0-17', '18-25', '26-35', '36-45', '46-50', '51-55', '55+']\n",
        "occupation_categories = list(range(21))\n",
        "city_categories = ['A', 'B', 'C']\n",
        "stay_years_categories = ['0', '1', '2', '3', '4+']\n",
        "marital_status_categories = [0, 1]\n",
        "product_categories = list(range(1, 21))\n",
        "product_categories.append(None)  # Adding 'nan' as a category\n",
        "\n",
        "# Categorical Pipeline\n",
        "cat_pipeline = Pipeline(\n",
        "     steps=[\n",
        "        ('imputer', SimpleImputer(strategy='most_frequent')),\n",
        "        ('ordinalencoder', OrdinalEncoder(categories=[['M', 'F'], age_categories, occupation_categories, city_categories, stay_years_categories, marital_status_categories, product_categories, product_categories, product_categories])),\n",
        "        ('scaler', StandardScaler())\n",
        "      ]\n",
        "  )\n",
        "\n",
        "preprocessor = ColumnTransformer([\n",
        "                ('cat_pipeline', cat_pipeline, categorical_cols)\n",
        "            ])\n",
        ""
      ],
      "metadata": {
        "id": "JIP8WBUD0U1-"
      },
      "execution_count": 15,
      "outputs": []
    },
    {
      "cell_type": "code",
      "source": [
        "# Data Transformation\n",
        "X_train=preprocessor.fit_transform(X_train)\n",
        "X_test=preprocessor.transform(X_test)"
      ],
      "metadata": {
        "id": "tkWXeOeHXT3q"
      },
      "execution_count": 16,
      "outputs": []
    },
    {
      "cell_type": "markdown",
      "source": [
        "# Model Training and Model Evaluation"
      ],
      "metadata": {
        "id": "dfHXMBH6aaRR"
      }
    },
    {
      "cell_type": "code",
      "source": [
        "from sklearn.linear_model import LinearRegression,Lasso,Ridge,ElasticNet\n",
        "from sklearn.tree import DecisionTreeRegressor\n",
        "from sklearn.ensemble import RandomForestRegressor\n",
        "from sklearn.ensemble import AdaBoostRegressor,GradientBoostingRegressor\n",
        "from sklearn.metrics import mean_squared_error"
      ],
      "metadata": {
        "id": "tiZCEybQDvk8"
      },
      "execution_count": 17,
      "outputs": []
    },
    {
      "cell_type": "code",
      "source": [
        "linear=LinearRegression()\n",
        "lasso=Lasso()\n",
        "ridge=Ridge()\n",
        "elastic=ElasticNet()\n",
        "decisiontree=DecisionTreeRegressor()\n",
        "randomforest=RandomForestRegressor()\n",
        "adaboost=AdaBoostRegressor()\n",
        "gboost=GradientBoostingRegressor()"
      ],
      "metadata": {
        "id": "aF8Bp_0qDvn_"
      },
      "execution_count": 18,
      "outputs": []
    },
    {
      "cell_type": "code",
      "source": [
        "import time\n",
        "models=[linear,lasso,ridge,elastic,decisiontree,randomforest,adaboost,gboost]\n",
        "result=pd.DataFrame(columns=['Model Name','RMSE'])\n",
        "\n",
        "def build_and_evaluate_models(X_train,X_test,y_train,y_test,models):\n",
        "  for model in models:\n",
        "    start=time.time()\n",
        "    trained_model=model.fit(X_train,y_train)\n",
        "    end=time.time()\n",
        "    fit_time=end-start\n",
        "\n",
        "    start=time.time()\n",
        "    y_pred=trained_model.predict(X_test)\n",
        "    end=time.time()\n",
        "    fit_time=end-start\n",
        "\n",
        "    mse=mean_squared_error(y_test,y_pred)\n",
        "    rmse=np.sqrt(mse)\n",
        "\n",
        "    result.loc[len(result)]=[model.__class__.__name__,rmse]\n",
        "  return result\n",
        "\n",
        "result = build_and_evaluate_models(X_train,X_test,y_train,y_test,models)"
      ],
      "metadata": {
        "id": "AD_BstC3Dvqv"
      },
      "execution_count": 19,
      "outputs": []
    },
    {
      "cell_type": "code",
      "source": [
        "result"
      ],
      "metadata": {
        "colab": {
          "base_uri": "https://localhost:8080/",
          "height": 300
        },
        "id": "sTXkjAXUy8bN",
        "outputId": "1c7967cb-e2af-44cc-f514-68abe5dbab96"
      },
      "execution_count": 20,
      "outputs": [
        {
          "output_type": "execute_result",
          "data": {
            "text/plain": [
              "                  Model Name         RMSE\n",
              "0           LinearRegression  4678.611633\n",
              "1                      Lasso  4678.610917\n",
              "2                      Ridge  4678.611617\n",
              "3                 ElasticNet  4708.826459\n",
              "4      DecisionTreeRegressor  3325.699523\n",
              "5      RandomForestRegressor  3054.349638\n",
              "6          AdaBoostRegressor  3866.721230\n",
              "7  GradientBoostingRegressor  2993.335865"
            ],
            "text/html": [
              "\n",
              "\n",
              "  <div id=\"df-c2ec5550-6345-4b5d-b0e8-e39435d8c123\">\n",
              "    <div class=\"colab-df-container\">\n",
              "      <div>\n",
              "<style scoped>\n",
              "    .dataframe tbody tr th:only-of-type {\n",
              "        vertical-align: middle;\n",
              "    }\n",
              "\n",
              "    .dataframe tbody tr th {\n",
              "        vertical-align: top;\n",
              "    }\n",
              "\n",
              "    .dataframe thead th {\n",
              "        text-align: right;\n",
              "    }\n",
              "</style>\n",
              "<table border=\"1\" class=\"dataframe\">\n",
              "  <thead>\n",
              "    <tr style=\"text-align: right;\">\n",
              "      <th></th>\n",
              "      <th>Model Name</th>\n",
              "      <th>RMSE</th>\n",
              "    </tr>\n",
              "  </thead>\n",
              "  <tbody>\n",
              "    <tr>\n",
              "      <th>0</th>\n",
              "      <td>LinearRegression</td>\n",
              "      <td>4678.611633</td>\n",
              "    </tr>\n",
              "    <tr>\n",
              "      <th>1</th>\n",
              "      <td>Lasso</td>\n",
              "      <td>4678.610917</td>\n",
              "    </tr>\n",
              "    <tr>\n",
              "      <th>2</th>\n",
              "      <td>Ridge</td>\n",
              "      <td>4678.611617</td>\n",
              "    </tr>\n",
              "    <tr>\n",
              "      <th>3</th>\n",
              "      <td>ElasticNet</td>\n",
              "      <td>4708.826459</td>\n",
              "    </tr>\n",
              "    <tr>\n",
              "      <th>4</th>\n",
              "      <td>DecisionTreeRegressor</td>\n",
              "      <td>3325.699523</td>\n",
              "    </tr>\n",
              "    <tr>\n",
              "      <th>5</th>\n",
              "      <td>RandomForestRegressor</td>\n",
              "      <td>3054.349638</td>\n",
              "    </tr>\n",
              "    <tr>\n",
              "      <th>6</th>\n",
              "      <td>AdaBoostRegressor</td>\n",
              "      <td>3866.721230</td>\n",
              "    </tr>\n",
              "    <tr>\n",
              "      <th>7</th>\n",
              "      <td>GradientBoostingRegressor</td>\n",
              "      <td>2993.335865</td>\n",
              "    </tr>\n",
              "  </tbody>\n",
              "</table>\n",
              "</div>\n",
              "      <button class=\"colab-df-convert\" onclick=\"convertToInteractive('df-c2ec5550-6345-4b5d-b0e8-e39435d8c123')\"\n",
              "              title=\"Convert this dataframe to an interactive table.\"\n",
              "              style=\"display:none;\">\n",
              "\n",
              "  <svg xmlns=\"http://www.w3.org/2000/svg\" height=\"24px\"viewBox=\"0 0 24 24\"\n",
              "       width=\"24px\">\n",
              "    <path d=\"M0 0h24v24H0V0z\" fill=\"none\"/>\n",
              "    <path d=\"M18.56 5.44l.94 2.06.94-2.06 2.06-.94-2.06-.94-.94-2.06-.94 2.06-2.06.94zm-11 1L8.5 8.5l.94-2.06 2.06-.94-2.06-.94L8.5 2.5l-.94 2.06-2.06.94zm10 10l.94 2.06.94-2.06 2.06-.94-2.06-.94-.94-2.06-.94 2.06-2.06.94z\"/><path d=\"M17.41 7.96l-1.37-1.37c-.4-.4-.92-.59-1.43-.59-.52 0-1.04.2-1.43.59L10.3 9.45l-7.72 7.72c-.78.78-.78 2.05 0 2.83L4 21.41c.39.39.9.59 1.41.59.51 0 1.02-.2 1.41-.59l7.78-7.78 2.81-2.81c.8-.78.8-2.07 0-2.86zM5.41 20L4 18.59l7.72-7.72 1.47 1.35L5.41 20z\"/>\n",
              "  </svg>\n",
              "      </button>\n",
              "\n",
              "\n",
              "\n",
              "    <div id=\"df-baf53406-25e4-4c9b-ae97-cb259aa6bf4e\">\n",
              "      <button class=\"colab-df-quickchart\" onclick=\"quickchart('df-baf53406-25e4-4c9b-ae97-cb259aa6bf4e')\"\n",
              "              title=\"Suggest charts.\"\n",
              "              style=\"display:none;\">\n",
              "\n",
              "<svg xmlns=\"http://www.w3.org/2000/svg\" height=\"24px\"viewBox=\"0 0 24 24\"\n",
              "     width=\"24px\">\n",
              "    <g>\n",
              "        <path d=\"M19 3H5c-1.1 0-2 .9-2 2v14c0 1.1.9 2 2 2h14c1.1 0 2-.9 2-2V5c0-1.1-.9-2-2-2zM9 17H7v-7h2v7zm4 0h-2V7h2v10zm4 0h-2v-4h2v4z\"/>\n",
              "    </g>\n",
              "</svg>\n",
              "      </button>\n",
              "    </div>\n",
              "\n",
              "<style>\n",
              "  .colab-df-quickchart {\n",
              "    background-color: #E8F0FE;\n",
              "    border: none;\n",
              "    border-radius: 50%;\n",
              "    cursor: pointer;\n",
              "    display: none;\n",
              "    fill: #1967D2;\n",
              "    height: 32px;\n",
              "    padding: 0 0 0 0;\n",
              "    width: 32px;\n",
              "  }\n",
              "\n",
              "  .colab-df-quickchart:hover {\n",
              "    background-color: #E2EBFA;\n",
              "    box-shadow: 0px 1px 2px rgba(60, 64, 67, 0.3), 0px 1px 3px 1px rgba(60, 64, 67, 0.15);\n",
              "    fill: #174EA6;\n",
              "  }\n",
              "\n",
              "  [theme=dark] .colab-df-quickchart {\n",
              "    background-color: #3B4455;\n",
              "    fill: #D2E3FC;\n",
              "  }\n",
              "\n",
              "  [theme=dark] .colab-df-quickchart:hover {\n",
              "    background-color: #434B5C;\n",
              "    box-shadow: 0px 1px 3px 1px rgba(0, 0, 0, 0.15);\n",
              "    filter: drop-shadow(0px 1px 2px rgba(0, 0, 0, 0.3));\n",
              "    fill: #FFFFFF;\n",
              "  }\n",
              "</style>\n",
              "\n",
              "    <script>\n",
              "      async function quickchart(key) {\n",
              "        const containerElement = document.querySelector('#' + key);\n",
              "        const charts = await google.colab.kernel.invokeFunction(\n",
              "            'suggestCharts', [key], {});\n",
              "      }\n",
              "    </script>\n",
              "\n",
              "      <script>\n",
              "\n",
              "function displayQuickchartButton(domScope) {\n",
              "  let quickchartButtonEl =\n",
              "    domScope.querySelector('#df-baf53406-25e4-4c9b-ae97-cb259aa6bf4e button.colab-df-quickchart');\n",
              "  quickchartButtonEl.style.display =\n",
              "    google.colab.kernel.accessAllowed ? 'block' : 'none';\n",
              "}\n",
              "\n",
              "        displayQuickchartButton(document);\n",
              "      </script>\n",
              "      <style>\n",
              "    .colab-df-container {\n",
              "      display:flex;\n",
              "      flex-wrap:wrap;\n",
              "      gap: 12px;\n",
              "    }\n",
              "\n",
              "    .colab-df-convert {\n",
              "      background-color: #E8F0FE;\n",
              "      border: none;\n",
              "      border-radius: 50%;\n",
              "      cursor: pointer;\n",
              "      display: none;\n",
              "      fill: #1967D2;\n",
              "      height: 32px;\n",
              "      padding: 0 0 0 0;\n",
              "      width: 32px;\n",
              "    }\n",
              "\n",
              "    .colab-df-convert:hover {\n",
              "      background-color: #E2EBFA;\n",
              "      box-shadow: 0px 1px 2px rgba(60, 64, 67, 0.3), 0px 1px 3px 1px rgba(60, 64, 67, 0.15);\n",
              "      fill: #174EA6;\n",
              "    }\n",
              "\n",
              "    [theme=dark] .colab-df-convert {\n",
              "      background-color: #3B4455;\n",
              "      fill: #D2E3FC;\n",
              "    }\n",
              "\n",
              "    [theme=dark] .colab-df-convert:hover {\n",
              "      background-color: #434B5C;\n",
              "      box-shadow: 0px 1px 3px 1px rgba(0, 0, 0, 0.15);\n",
              "      filter: drop-shadow(0px 1px 2px rgba(0, 0, 0, 0.3));\n",
              "      fill: #FFFFFF;\n",
              "    }\n",
              "  </style>\n",
              "\n",
              "      <script>\n",
              "        const buttonEl =\n",
              "          document.querySelector('#df-c2ec5550-6345-4b5d-b0e8-e39435d8c123 button.colab-df-convert');\n",
              "        buttonEl.style.display =\n",
              "          google.colab.kernel.accessAllowed ? 'block' : 'none';\n",
              "\n",
              "        async function convertToInteractive(key) {\n",
              "          const element = document.querySelector('#df-c2ec5550-6345-4b5d-b0e8-e39435d8c123');\n",
              "          const dataTable =\n",
              "            await google.colab.kernel.invokeFunction('convertToInteractive',\n",
              "                                                     [key], {});\n",
              "          if (!dataTable) return;\n",
              "\n",
              "          const docLinkHtml = 'Like what you see? Visit the ' +\n",
              "            '<a target=\"_blank\" href=https://colab.research.google.com/notebooks/data_table.ipynb>data table notebook</a>'\n",
              "            + ' to learn more about interactive tables.';\n",
              "          element.innerHTML = '';\n",
              "          dataTable['output_type'] = 'display_data';\n",
              "          await google.colab.output.renderOutput(dataTable, element);\n",
              "          const docLink = document.createElement('div');\n",
              "          docLink.innerHTML = docLinkHtml;\n",
              "          element.appendChild(docLink);\n",
              "        }\n",
              "      </script>\n",
              "    </div>\n",
              "  </div>\n"
            ]
          },
          "metadata": {},
          "execution_count": 20
        }
      ]
    },
    {
      "cell_type": "markdown",
      "source": [
        "# Hyperparameter Tuning Using GradientBoosting Regressor"
      ],
      "metadata": {
        "id": "_jzQLoEaajvY"
      }
    },
    {
      "cell_type": "code",
      "source": [
        "# Hyperparamter Tuning Using # Hyperparameter Tuning Using GradientBoosting Regression:\n",
        "# GridSearch CV\n",
        "from sklearn.model_selection import GridSearchCV\n",
        "parameter={\n",
        " 'alpha':[0.01,1,10],\n",
        " 'learning_rate':[0.01,1,10],\n",
        " 'n_estimators':[100,200,300]\n",
        "}"
      ],
      "metadata": {
        "id": "xbNwLFZay9Nc"
      },
      "execution_count": 21,
      "outputs": []
    },
    {
      "cell_type": "code",
      "source": [
        "regressor=GradientBoostingRegressor()\n",
        "reg=GridSearchCV(regressor,param_grid=parameter,cv=5,scoring='neg_root_mean_squared_error',verbose=3)\n",
        "reg.fit(X_train,y_train)"
      ],
      "metadata": {
        "colab": {
          "base_uri": "https://localhost:8080/",
          "height": 1000
        },
        "id": "0ho-CDMt-Bnq",
        "outputId": "669a7907-8dea-47fc-da3b-ec8e1e003b95"
      },
      "execution_count": 22,
      "outputs": [
        {
          "output_type": "stream",
          "name": "stdout",
          "text": [
            "Fitting 5 folds for each of 27 candidates, totalling 135 fits\n",
            "[CV 1/5] END alpha=0.01, learning_rate=0.01, n_estimators=100;, score=-3815.704 total time=  35.9s\n",
            "[CV 2/5] END alpha=0.01, learning_rate=0.01, n_estimators=100;, score=-3812.913 total time=  36.7s\n",
            "[CV 3/5] END alpha=0.01, learning_rate=0.01, n_estimators=100;, score=-3812.065 total time=  45.4s\n",
            "[CV 4/5] END alpha=0.01, learning_rate=0.01, n_estimators=100;, score=-3817.248 total time=  37.0s\n",
            "[CV 5/5] END alpha=0.01, learning_rate=0.01, n_estimators=100;, score=-3835.522 total time=  37.7s\n",
            "[CV 1/5] END alpha=0.01, learning_rate=0.01, n_estimators=200;, score=-3396.726 total time= 1.2min\n",
            "[CV 2/5] END alpha=0.01, learning_rate=0.01, n_estimators=200;, score=-3388.064 total time= 1.2min\n",
            "[CV 3/5] END alpha=0.01, learning_rate=0.01, n_estimators=200;, score=-3453.835 total time= 1.2min\n",
            "[CV 4/5] END alpha=0.01, learning_rate=0.01, n_estimators=200;, score=-3417.256 total time= 1.2min\n",
            "[CV 5/5] END alpha=0.01, learning_rate=0.01, n_estimators=200;, score=-3424.439 total time= 1.2min\n",
            "[CV 1/5] END alpha=0.01, learning_rate=0.01, n_estimators=300;, score=-3160.413 total time= 1.8min\n",
            "[CV 2/5] END alpha=0.01, learning_rate=0.01, n_estimators=300;, score=-3151.236 total time= 1.8min\n",
            "[CV 3/5] END alpha=0.01, learning_rate=0.01, n_estimators=300;, score=-3197.020 total time= 1.8min\n",
            "[CV 4/5] END alpha=0.01, learning_rate=0.01, n_estimators=300;, score=-3167.579 total time= 1.8min\n",
            "[CV 5/5] END alpha=0.01, learning_rate=0.01, n_estimators=300;, score=-3170.058 total time= 1.8min\n",
            "[CV 1/5] END alpha=0.01, learning_rate=1, n_estimators=100;, score=-2923.159 total time=  35.4s\n",
            "[CV 2/5] END alpha=0.01, learning_rate=1, n_estimators=100;, score=-2918.480 total time=  35.4s\n",
            "[CV 3/5] END alpha=0.01, learning_rate=1, n_estimators=100;, score=-2931.911 total time=  35.4s\n",
            "[CV 4/5] END alpha=0.01, learning_rate=1, n_estimators=100;, score=-2924.080 total time=  35.7s\n",
            "[CV 5/5] END alpha=0.01, learning_rate=1, n_estimators=100;, score=-2911.808 total time=  35.7s\n",
            "[CV 1/5] END alpha=0.01, learning_rate=1, n_estimators=200;, score=-2910.544 total time= 1.2min\n",
            "[CV 2/5] END alpha=0.01, learning_rate=1, n_estimators=200;, score=-2910.255 total time= 1.2min\n",
            "[CV 3/5] END alpha=0.01, learning_rate=1, n_estimators=200;, score=-2922.062 total time= 1.2min\n",
            "[CV 4/5] END alpha=0.01, learning_rate=1, n_estimators=200;, score=-2917.733 total time= 1.2min\n",
            "[CV 5/5] END alpha=0.01, learning_rate=1, n_estimators=200;, score=-2901.229 total time= 1.2min\n",
            "[CV 1/5] END alpha=0.01, learning_rate=1, n_estimators=300;, score=-2906.254 total time= 1.8min\n",
            "[CV 2/5] END alpha=0.01, learning_rate=1, n_estimators=300;, score=-2906.901 total time= 1.8min\n",
            "[CV 3/5] END alpha=0.01, learning_rate=1, n_estimators=300;, score=-2916.674 total time= 1.8min\n",
            "[CV 4/5] END alpha=0.01, learning_rate=1, n_estimators=300;, score=-2914.453 total time= 1.8min\n",
            "[CV 5/5] END alpha=0.01, learning_rate=1, n_estimators=300;, score=-2897.280 total time= 1.8min\n",
            "[CV 1/5] END alpha=0.01, learning_rate=10, n_estimators=100;, score=-888882325895956914889812177564292568142254807614982813395573415210462207751499115861005412826349568.000 total time=  35.8s\n",
            "[CV 2/5] END alpha=0.01, learning_rate=10, n_estimators=100;, score=-888051099529407718421378960104890814879226459653858220751279020674152469139704624590133378326462464.000 total time=  36.3s\n",
            "[CV 3/5] END alpha=0.01, learning_rate=10, n_estimators=100;, score=-888026813511874465440517941517571397574464029431465978275420587955638560843937228286976094980014080.000 total time=  36.4s\n",
            "[CV 4/5] END alpha=0.01, learning_rate=10, n_estimators=100;, score=-890685398754960214087379441230984885499250019669977152177083316497417938031830237340430761984000000.000 total time=  35.8s\n",
            "[CV 5/5] END alpha=0.01, learning_rate=10, n_estimators=100;, score=-887917209151634528552294894508987582162530932833730753644568169926442464132440714273443862395486208.000 total time=  35.7s\n",
            "[CV 1/5] END alpha=0.01, learning_rate=10, n_estimators=200;, score=-inf total time= 1.2min\n",
            "[CV 2/5] END alpha=0.01, learning_rate=10, n_estimators=200;, score=-inf total time= 1.2min\n",
            "[CV 3/5] END alpha=0.01, learning_rate=10, n_estimators=200;, score=-inf total time= 1.2min\n",
            "[CV 4/5] END alpha=0.01, learning_rate=10, n_estimators=200;, score=-inf total time= 1.2min\n",
            "[CV 5/5] END alpha=0.01, learning_rate=10, n_estimators=200;, score=-inf total time= 1.2min\n",
            "[CV 1/5] END alpha=0.01, learning_rate=10, n_estimators=300;, score=-inf total time= 1.8min\n",
            "[CV 2/5] END alpha=0.01, learning_rate=10, n_estimators=300;, score=-inf total time= 1.8min\n",
            "[CV 3/5] END alpha=0.01, learning_rate=10, n_estimators=300;, score=-inf total time= 1.8min\n",
            "[CV 4/5] END alpha=0.01, learning_rate=10, n_estimators=300;, score=-inf total time= 1.8min\n",
            "[CV 5/5] END alpha=0.01, learning_rate=10, n_estimators=300;, score=-inf total time= 1.8min\n",
            "[CV 1/5] END alpha=1, learning_rate=0.01, n_estimators=100;, score=nan total time=   0.0s\n",
            "[CV 2/5] END alpha=1, learning_rate=0.01, n_estimators=100;, score=nan total time=   0.0s\n",
            "[CV 3/5] END alpha=1, learning_rate=0.01, n_estimators=100;, score=nan total time=   0.0s\n",
            "[CV 4/5] END alpha=1, learning_rate=0.01, n_estimators=100;, score=nan total time=   0.0s\n",
            "[CV 5/5] END alpha=1, learning_rate=0.01, n_estimators=100;, score=nan total time=   0.0s\n",
            "[CV 1/5] END alpha=1, learning_rate=0.01, n_estimators=200;, score=nan total time=   0.0s\n",
            "[CV 2/5] END alpha=1, learning_rate=0.01, n_estimators=200;, score=nan total time=   0.0s\n",
            "[CV 3/5] END alpha=1, learning_rate=0.01, n_estimators=200;, score=nan total time=   0.0s\n",
            "[CV 4/5] END alpha=1, learning_rate=0.01, n_estimators=200;, score=nan total time=   0.0s\n",
            "[CV 5/5] END alpha=1, learning_rate=0.01, n_estimators=200;, score=nan total time=   0.0s\n",
            "[CV 1/5] END alpha=1, learning_rate=0.01, n_estimators=300;, score=nan total time=   0.0s\n",
            "[CV 2/5] END alpha=1, learning_rate=0.01, n_estimators=300;, score=nan total time=   0.0s\n",
            "[CV 3/5] END alpha=1, learning_rate=0.01, n_estimators=300;, score=nan total time=   0.0s\n",
            "[CV 4/5] END alpha=1, learning_rate=0.01, n_estimators=300;, score=nan total time=   0.0s\n",
            "[CV 5/5] END alpha=1, learning_rate=0.01, n_estimators=300;, score=nan total time=   0.0s\n",
            "[CV 1/5] END alpha=1, learning_rate=1, n_estimators=100;, score=nan total time=   0.0s\n",
            "[CV 2/5] END alpha=1, learning_rate=1, n_estimators=100;, score=nan total time=   0.0s\n",
            "[CV 3/5] END alpha=1, learning_rate=1, n_estimators=100;, score=nan total time=   0.0s\n",
            "[CV 4/5] END alpha=1, learning_rate=1, n_estimators=100;, score=nan total time=   0.0s\n",
            "[CV 5/5] END alpha=1, learning_rate=1, n_estimators=100;, score=nan total time=   0.0s\n",
            "[CV 1/5] END alpha=1, learning_rate=1, n_estimators=200;, score=nan total time=   0.0s\n",
            "[CV 2/5] END alpha=1, learning_rate=1, n_estimators=200;, score=nan total time=   0.0s\n",
            "[CV 3/5] END alpha=1, learning_rate=1, n_estimators=200;, score=nan total time=   0.0s\n",
            "[CV 4/5] END alpha=1, learning_rate=1, n_estimators=200;, score=nan total time=   0.0s\n",
            "[CV 5/5] END alpha=1, learning_rate=1, n_estimators=200;, score=nan total time=   0.0s\n",
            "[CV 1/5] END alpha=1, learning_rate=1, n_estimators=300;, score=nan total time=   0.0s\n",
            "[CV 2/5] END alpha=1, learning_rate=1, n_estimators=300;, score=nan total time=   0.0s\n",
            "[CV 3/5] END alpha=1, learning_rate=1, n_estimators=300;, score=nan total time=   0.0s\n",
            "[CV 4/5] END alpha=1, learning_rate=1, n_estimators=300;, score=nan total time=   0.0s\n",
            "[CV 5/5] END alpha=1, learning_rate=1, n_estimators=300;, score=nan total time=   0.0s\n",
            "[CV 1/5] END alpha=1, learning_rate=10, n_estimators=100;, score=nan total time=   0.0s\n",
            "[CV 2/5] END alpha=1, learning_rate=10, n_estimators=100;, score=nan total time=   0.0s\n",
            "[CV 3/5] END alpha=1, learning_rate=10, n_estimators=100;, score=nan total time=   0.0s\n",
            "[CV 4/5] END alpha=1, learning_rate=10, n_estimators=100;, score=nan total time=   0.0s\n",
            "[CV 5/5] END alpha=1, learning_rate=10, n_estimators=100;, score=nan total time=   0.0s\n",
            "[CV 1/5] END alpha=1, learning_rate=10, n_estimators=200;, score=nan total time=   0.0s\n",
            "[CV 2/5] END alpha=1, learning_rate=10, n_estimators=200;, score=nan total time=   0.0s\n",
            "[CV 3/5] END alpha=1, learning_rate=10, n_estimators=200;, score=nan total time=   0.0s\n",
            "[CV 4/5] END alpha=1, learning_rate=10, n_estimators=200;, score=nan total time=   0.0s\n",
            "[CV 5/5] END alpha=1, learning_rate=10, n_estimators=200;, score=nan total time=   0.0s\n",
            "[CV 1/5] END alpha=1, learning_rate=10, n_estimators=300;, score=nan total time=   0.0s\n",
            "[CV 2/5] END alpha=1, learning_rate=10, n_estimators=300;, score=nan total time=   0.0s\n",
            "[CV 3/5] END alpha=1, learning_rate=10, n_estimators=300;, score=nan total time=   0.0s\n",
            "[CV 4/5] END alpha=1, learning_rate=10, n_estimators=300;, score=nan total time=   0.0s\n",
            "[CV 5/5] END alpha=1, learning_rate=10, n_estimators=300;, score=nan total time=   0.0s\n",
            "[CV 1/5] END alpha=10, learning_rate=0.01, n_estimators=100;, score=nan total time=   0.0s\n",
            "[CV 2/5] END alpha=10, learning_rate=0.01, n_estimators=100;, score=nan total time=   0.0s\n",
            "[CV 3/5] END alpha=10, learning_rate=0.01, n_estimators=100;, score=nan total time=   0.0s\n",
            "[CV 4/5] END alpha=10, learning_rate=0.01, n_estimators=100;, score=nan total time=   0.0s\n",
            "[CV 5/5] END alpha=10, learning_rate=0.01, n_estimators=100;, score=nan total time=   0.0s\n",
            "[CV 1/5] END alpha=10, learning_rate=0.01, n_estimators=200;, score=nan total time=   0.0s\n",
            "[CV 2/5] END alpha=10, learning_rate=0.01, n_estimators=200;, score=nan total time=   0.0s\n",
            "[CV 3/5] END alpha=10, learning_rate=0.01, n_estimators=200;, score=nan total time=   0.0s\n",
            "[CV 4/5] END alpha=10, learning_rate=0.01, n_estimators=200;, score=nan total time=   0.0s\n",
            "[CV 5/5] END alpha=10, learning_rate=0.01, n_estimators=200;, score=nan total time=   0.0s\n",
            "[CV 1/5] END alpha=10, learning_rate=0.01, n_estimators=300;, score=nan total time=   0.0s\n",
            "[CV 2/5] END alpha=10, learning_rate=0.01, n_estimators=300;, score=nan total time=   0.0s\n",
            "[CV 3/5] END alpha=10, learning_rate=0.01, n_estimators=300;, score=nan total time=   0.0s\n",
            "[CV 4/5] END alpha=10, learning_rate=0.01, n_estimators=300;, score=nan total time=   0.0s\n",
            "[CV 5/5] END alpha=10, learning_rate=0.01, n_estimators=300;, score=nan total time=   0.0s\n",
            "[CV 1/5] END alpha=10, learning_rate=1, n_estimators=100;, score=nan total time=   0.0s\n",
            "[CV 2/5] END alpha=10, learning_rate=1, n_estimators=100;, score=nan total time=   0.0s\n",
            "[CV 3/5] END alpha=10, learning_rate=1, n_estimators=100;, score=nan total time=   0.0s\n",
            "[CV 4/5] END alpha=10, learning_rate=1, n_estimators=100;, score=nan total time=   0.0s\n",
            "[CV 5/5] END alpha=10, learning_rate=1, n_estimators=100;, score=nan total time=   0.0s\n",
            "[CV 1/5] END alpha=10, learning_rate=1, n_estimators=200;, score=nan total time=   0.0s\n",
            "[CV 2/5] END alpha=10, learning_rate=1, n_estimators=200;, score=nan total time=   0.0s\n",
            "[CV 3/5] END alpha=10, learning_rate=1, n_estimators=200;, score=nan total time=   0.0s\n",
            "[CV 4/5] END alpha=10, learning_rate=1, n_estimators=200;, score=nan total time=   0.0s\n",
            "[CV 5/5] END alpha=10, learning_rate=1, n_estimators=200;, score=nan total time=   0.0s\n",
            "[CV 1/5] END alpha=10, learning_rate=1, n_estimators=300;, score=nan total time=   0.0s\n",
            "[CV 2/5] END alpha=10, learning_rate=1, n_estimators=300;, score=nan total time=   0.0s\n",
            "[CV 3/5] END alpha=10, learning_rate=1, n_estimators=300;, score=nan total time=   0.0s\n",
            "[CV 4/5] END alpha=10, learning_rate=1, n_estimators=300;, score=nan total time=   0.0s\n",
            "[CV 5/5] END alpha=10, learning_rate=1, n_estimators=300;, score=nan total time=   0.0s\n",
            "[CV 1/5] END alpha=10, learning_rate=10, n_estimators=100;, score=nan total time=   0.0s\n",
            "[CV 2/5] END alpha=10, learning_rate=10, n_estimators=100;, score=nan total time=   0.0s\n",
            "[CV 3/5] END alpha=10, learning_rate=10, n_estimators=100;, score=nan total time=   0.0s\n",
            "[CV 4/5] END alpha=10, learning_rate=10, n_estimators=100;, score=nan total time=   0.0s\n",
            "[CV 5/5] END alpha=10, learning_rate=10, n_estimators=100;, score=nan total time=   0.0s\n",
            "[CV 1/5] END alpha=10, learning_rate=10, n_estimators=200;, score=nan total time=   0.0s\n",
            "[CV 2/5] END alpha=10, learning_rate=10, n_estimators=200;, score=nan total time=   0.0s\n",
            "[CV 3/5] END alpha=10, learning_rate=10, n_estimators=200;, score=nan total time=   0.0s\n",
            "[CV 4/5] END alpha=10, learning_rate=10, n_estimators=200;, score=nan total time=   0.0s\n",
            "[CV 5/5] END alpha=10, learning_rate=10, n_estimators=200;, score=nan total time=   0.0s\n",
            "[CV 1/5] END alpha=10, learning_rate=10, n_estimators=300;, score=nan total time=   0.0s\n",
            "[CV 2/5] END alpha=10, learning_rate=10, n_estimators=300;, score=nan total time=   0.0s\n",
            "[CV 3/5] END alpha=10, learning_rate=10, n_estimators=300;, score=nan total time=   0.0s\n",
            "[CV 4/5] END alpha=10, learning_rate=10, n_estimators=300;, score=nan total time=   0.0s\n",
            "[CV 5/5] END alpha=10, learning_rate=10, n_estimators=300;, score=nan total time=   0.0s\n"
          ]
        },
        {
          "output_type": "execute_result",
          "data": {
            "text/plain": [
              "GridSearchCV(cv=5, estimator=GradientBoostingRegressor(),\n",
              "             param_grid={'alpha': [0.01, 1, 10], 'learning_rate': [0.01, 1, 10],\n",
              "                         'n_estimators': [100, 200, 300]},\n",
              "             scoring='neg_root_mean_squared_error', verbose=3)"
            ],
            "text/html": [
              "<style>#sk-container-id-1 {color: black;background-color: white;}#sk-container-id-1 pre{padding: 0;}#sk-container-id-1 div.sk-toggleable {background-color: white;}#sk-container-id-1 label.sk-toggleable__label {cursor: pointer;display: block;width: 100%;margin-bottom: 0;padding: 0.3em;box-sizing: border-box;text-align: center;}#sk-container-id-1 label.sk-toggleable__label-arrow:before {content: \"▸\";float: left;margin-right: 0.25em;color: #696969;}#sk-container-id-1 label.sk-toggleable__label-arrow:hover:before {color: black;}#sk-container-id-1 div.sk-estimator:hover label.sk-toggleable__label-arrow:before {color: black;}#sk-container-id-1 div.sk-toggleable__content {max-height: 0;max-width: 0;overflow: hidden;text-align: left;background-color: #f0f8ff;}#sk-container-id-1 div.sk-toggleable__content pre {margin: 0.2em;color: black;border-radius: 0.25em;background-color: #f0f8ff;}#sk-container-id-1 input.sk-toggleable__control:checked~div.sk-toggleable__content {max-height: 200px;max-width: 100%;overflow: auto;}#sk-container-id-1 input.sk-toggleable__control:checked~label.sk-toggleable__label-arrow:before {content: \"▾\";}#sk-container-id-1 div.sk-estimator input.sk-toggleable__control:checked~label.sk-toggleable__label {background-color: #d4ebff;}#sk-container-id-1 div.sk-label input.sk-toggleable__control:checked~label.sk-toggleable__label {background-color: #d4ebff;}#sk-container-id-1 input.sk-hidden--visually {border: 0;clip: rect(1px 1px 1px 1px);clip: rect(1px, 1px, 1px, 1px);height: 1px;margin: -1px;overflow: hidden;padding: 0;position: absolute;width: 1px;}#sk-container-id-1 div.sk-estimator {font-family: monospace;background-color: #f0f8ff;border: 1px dotted black;border-radius: 0.25em;box-sizing: border-box;margin-bottom: 0.5em;}#sk-container-id-1 div.sk-estimator:hover {background-color: #d4ebff;}#sk-container-id-1 div.sk-parallel-item::after {content: \"\";width: 100%;border-bottom: 1px solid gray;flex-grow: 1;}#sk-container-id-1 div.sk-label:hover label.sk-toggleable__label {background-color: #d4ebff;}#sk-container-id-1 div.sk-serial::before {content: \"\";position: absolute;border-left: 1px solid gray;box-sizing: border-box;top: 0;bottom: 0;left: 50%;z-index: 0;}#sk-container-id-1 div.sk-serial {display: flex;flex-direction: column;align-items: center;background-color: white;padding-right: 0.2em;padding-left: 0.2em;position: relative;}#sk-container-id-1 div.sk-item {position: relative;z-index: 1;}#sk-container-id-1 div.sk-parallel {display: flex;align-items: stretch;justify-content: center;background-color: white;position: relative;}#sk-container-id-1 div.sk-item::before, #sk-container-id-1 div.sk-parallel-item::before {content: \"\";position: absolute;border-left: 1px solid gray;box-sizing: border-box;top: 0;bottom: 0;left: 50%;z-index: -1;}#sk-container-id-1 div.sk-parallel-item {display: flex;flex-direction: column;z-index: 1;position: relative;background-color: white;}#sk-container-id-1 div.sk-parallel-item:first-child::after {align-self: flex-end;width: 50%;}#sk-container-id-1 div.sk-parallel-item:last-child::after {align-self: flex-start;width: 50%;}#sk-container-id-1 div.sk-parallel-item:only-child::after {width: 0;}#sk-container-id-1 div.sk-dashed-wrapped {border: 1px dashed gray;margin: 0 0.4em 0.5em 0.4em;box-sizing: border-box;padding-bottom: 0.4em;background-color: white;}#sk-container-id-1 div.sk-label label {font-family: monospace;font-weight: bold;display: inline-block;line-height: 1.2em;}#sk-container-id-1 div.sk-label-container {text-align: center;}#sk-container-id-1 div.sk-container {/* jupyter's `normalize.less` sets `[hidden] { display: none; }` but bootstrap.min.css set `[hidden] { display: none !important; }` so we also need the `!important` here to be able to override the default hidden behavior on the sphinx rendered scikit-learn.org. See: https://github.com/scikit-learn/scikit-learn/issues/21755 */display: inline-block !important;position: relative;}#sk-container-id-1 div.sk-text-repr-fallback {display: none;}</style><div id=\"sk-container-id-1\" class=\"sk-top-container\"><div class=\"sk-text-repr-fallback\"><pre>GridSearchCV(cv=5, estimator=GradientBoostingRegressor(),\n",
              "             param_grid={&#x27;alpha&#x27;: [0.01, 1, 10], &#x27;learning_rate&#x27;: [0.01, 1, 10],\n",
              "                         &#x27;n_estimators&#x27;: [100, 200, 300]},\n",
              "             scoring=&#x27;neg_root_mean_squared_error&#x27;, verbose=3)</pre><b>In a Jupyter environment, please rerun this cell to show the HTML representation or trust the notebook. <br />On GitHub, the HTML representation is unable to render, please try loading this page with nbviewer.org.</b></div><div class=\"sk-container\" hidden><div class=\"sk-item sk-dashed-wrapped\"><div class=\"sk-label-container\"><div class=\"sk-label sk-toggleable\"><input class=\"sk-toggleable__control sk-hidden--visually\" id=\"sk-estimator-id-1\" type=\"checkbox\" ><label for=\"sk-estimator-id-1\" class=\"sk-toggleable__label sk-toggleable__label-arrow\">GridSearchCV</label><div class=\"sk-toggleable__content\"><pre>GridSearchCV(cv=5, estimator=GradientBoostingRegressor(),\n",
              "             param_grid={&#x27;alpha&#x27;: [0.01, 1, 10], &#x27;learning_rate&#x27;: [0.01, 1, 10],\n",
              "                         &#x27;n_estimators&#x27;: [100, 200, 300]},\n",
              "             scoring=&#x27;neg_root_mean_squared_error&#x27;, verbose=3)</pre></div></div></div><div class=\"sk-parallel\"><div class=\"sk-parallel-item\"><div class=\"sk-item\"><div class=\"sk-label-container\"><div class=\"sk-label sk-toggleable\"><input class=\"sk-toggleable__control sk-hidden--visually\" id=\"sk-estimator-id-2\" type=\"checkbox\" ><label for=\"sk-estimator-id-2\" class=\"sk-toggleable__label sk-toggleable__label-arrow\">estimator: GradientBoostingRegressor</label><div class=\"sk-toggleable__content\"><pre>GradientBoostingRegressor()</pre></div></div></div><div class=\"sk-serial\"><div class=\"sk-item\"><div class=\"sk-estimator sk-toggleable\"><input class=\"sk-toggleable__control sk-hidden--visually\" id=\"sk-estimator-id-3\" type=\"checkbox\" ><label for=\"sk-estimator-id-3\" class=\"sk-toggleable__label sk-toggleable__label-arrow\">GradientBoostingRegressor</label><div class=\"sk-toggleable__content\"><pre>GradientBoostingRegressor()</pre></div></div></div></div></div></div></div></div></div></div>"
            ]
          },
          "metadata": {},
          "execution_count": 22
        }
      ]
    },
    {
      "cell_type": "code",
      "source": [
        "reg.best_params_"
      ],
      "metadata": {
        "colab": {
          "base_uri": "https://localhost:8080/"
        },
        "id": "mBTU16Vu_Dxc",
        "outputId": "244754c0-744f-4772-b2bf-18872771122f"
      },
      "execution_count": 23,
      "outputs": [
        {
          "output_type": "execute_result",
          "data": {
            "text/plain": [
              "{'alpha': 0.01, 'learning_rate': 1, 'n_estimators': 300}"
            ]
          },
          "metadata": {},
          "execution_count": 23
        }
      ]
    },
    {
      "cell_type": "code",
      "source": [
        "reg.best_estimator_"
      ],
      "metadata": {
        "colab": {
          "base_uri": "https://localhost:8080/",
          "height": 74
        },
        "id": "l49c7oRE_D1h",
        "outputId": "8065c974-eb6e-4061-84b8-5537d6f4c7ea"
      },
      "execution_count": 24,
      "outputs": [
        {
          "output_type": "execute_result",
          "data": {
            "text/plain": [
              "GradientBoostingRegressor(alpha=0.01, learning_rate=1, n_estimators=300)"
            ],
            "text/html": [
              "<style>#sk-container-id-2 {color: black;background-color: white;}#sk-container-id-2 pre{padding: 0;}#sk-container-id-2 div.sk-toggleable {background-color: white;}#sk-container-id-2 label.sk-toggleable__label {cursor: pointer;display: block;width: 100%;margin-bottom: 0;padding: 0.3em;box-sizing: border-box;text-align: center;}#sk-container-id-2 label.sk-toggleable__label-arrow:before {content: \"▸\";float: left;margin-right: 0.25em;color: #696969;}#sk-container-id-2 label.sk-toggleable__label-arrow:hover:before {color: black;}#sk-container-id-2 div.sk-estimator:hover label.sk-toggleable__label-arrow:before {color: black;}#sk-container-id-2 div.sk-toggleable__content {max-height: 0;max-width: 0;overflow: hidden;text-align: left;background-color: #f0f8ff;}#sk-container-id-2 div.sk-toggleable__content pre {margin: 0.2em;color: black;border-radius: 0.25em;background-color: #f0f8ff;}#sk-container-id-2 input.sk-toggleable__control:checked~div.sk-toggleable__content {max-height: 200px;max-width: 100%;overflow: auto;}#sk-container-id-2 input.sk-toggleable__control:checked~label.sk-toggleable__label-arrow:before {content: \"▾\";}#sk-container-id-2 div.sk-estimator input.sk-toggleable__control:checked~label.sk-toggleable__label {background-color: #d4ebff;}#sk-container-id-2 div.sk-label input.sk-toggleable__control:checked~label.sk-toggleable__label {background-color: #d4ebff;}#sk-container-id-2 input.sk-hidden--visually {border: 0;clip: rect(1px 1px 1px 1px);clip: rect(1px, 1px, 1px, 1px);height: 1px;margin: -1px;overflow: hidden;padding: 0;position: absolute;width: 1px;}#sk-container-id-2 div.sk-estimator {font-family: monospace;background-color: #f0f8ff;border: 1px dotted black;border-radius: 0.25em;box-sizing: border-box;margin-bottom: 0.5em;}#sk-container-id-2 div.sk-estimator:hover {background-color: #d4ebff;}#sk-container-id-2 div.sk-parallel-item::after {content: \"\";width: 100%;border-bottom: 1px solid gray;flex-grow: 1;}#sk-container-id-2 div.sk-label:hover label.sk-toggleable__label {background-color: #d4ebff;}#sk-container-id-2 div.sk-serial::before {content: \"\";position: absolute;border-left: 1px solid gray;box-sizing: border-box;top: 0;bottom: 0;left: 50%;z-index: 0;}#sk-container-id-2 div.sk-serial {display: flex;flex-direction: column;align-items: center;background-color: white;padding-right: 0.2em;padding-left: 0.2em;position: relative;}#sk-container-id-2 div.sk-item {position: relative;z-index: 1;}#sk-container-id-2 div.sk-parallel {display: flex;align-items: stretch;justify-content: center;background-color: white;position: relative;}#sk-container-id-2 div.sk-item::before, #sk-container-id-2 div.sk-parallel-item::before {content: \"\";position: absolute;border-left: 1px solid gray;box-sizing: border-box;top: 0;bottom: 0;left: 50%;z-index: -1;}#sk-container-id-2 div.sk-parallel-item {display: flex;flex-direction: column;z-index: 1;position: relative;background-color: white;}#sk-container-id-2 div.sk-parallel-item:first-child::after {align-self: flex-end;width: 50%;}#sk-container-id-2 div.sk-parallel-item:last-child::after {align-self: flex-start;width: 50%;}#sk-container-id-2 div.sk-parallel-item:only-child::after {width: 0;}#sk-container-id-2 div.sk-dashed-wrapped {border: 1px dashed gray;margin: 0 0.4em 0.5em 0.4em;box-sizing: border-box;padding-bottom: 0.4em;background-color: white;}#sk-container-id-2 div.sk-label label {font-family: monospace;font-weight: bold;display: inline-block;line-height: 1.2em;}#sk-container-id-2 div.sk-label-container {text-align: center;}#sk-container-id-2 div.sk-container {/* jupyter's `normalize.less` sets `[hidden] { display: none; }` but bootstrap.min.css set `[hidden] { display: none !important; }` so we also need the `!important` here to be able to override the default hidden behavior on the sphinx rendered scikit-learn.org. See: https://github.com/scikit-learn/scikit-learn/issues/21755 */display: inline-block !important;position: relative;}#sk-container-id-2 div.sk-text-repr-fallback {display: none;}</style><div id=\"sk-container-id-2\" class=\"sk-top-container\"><div class=\"sk-text-repr-fallback\"><pre>GradientBoostingRegressor(alpha=0.01, learning_rate=1, n_estimators=300)</pre><b>In a Jupyter environment, please rerun this cell to show the HTML representation or trust the notebook. <br />On GitHub, the HTML representation is unable to render, please try loading this page with nbviewer.org.</b></div><div class=\"sk-container\" hidden><div class=\"sk-item\"><div class=\"sk-estimator sk-toggleable\"><input class=\"sk-toggleable__control sk-hidden--visually\" id=\"sk-estimator-id-4\" type=\"checkbox\" checked><label for=\"sk-estimator-id-4\" class=\"sk-toggleable__label sk-toggleable__label-arrow\">GradientBoostingRegressor</label><div class=\"sk-toggleable__content\"><pre>GradientBoostingRegressor(alpha=0.01, learning_rate=1, n_estimators=300)</pre></div></div></div></div></div>"
            ]
          },
          "metadata": {},
          "execution_count": 24
        }
      ]
    },
    {
      "cell_type": "code",
      "source": [
        "reg.best_score_"
      ],
      "metadata": {
        "colab": {
          "base_uri": "https://localhost:8080/"
        },
        "id": "zbZIFLwnDIkM",
        "outputId": "f42325d0-b056-4db3-c74f-e86a254f0573"
      },
      "execution_count": 25,
      "outputs": [
        {
          "output_type": "execute_result",
          "data": {
            "text/plain": [
              "-2908.3123485483243"
            ]
          },
          "metadata": {},
          "execution_count": 25
        }
      ]
    },
    {
      "cell_type": "code",
      "source": [
        "reg.best_estimator_.predict([X_test[10]])"
      ],
      "metadata": {
        "colab": {
          "base_uri": "https://localhost:8080/"
        },
        "id": "liaP7pMP_D4M",
        "outputId": "c667f59b-14f0-40e7-80e8-6ba23819d61b"
      },
      "execution_count": 28,
      "outputs": [
        {
          "output_type": "execute_result",
          "data": {
            "text/plain": [
              "array([4074.45735966])"
            ]
          },
          "metadata": {},
          "execution_count": 28
        }
      ]
    },
    {
      "cell_type": "code",
      "source": [
        "y_pred=reg.best_estimator_.predict(X_test)\n",
        "mse=mean_squared_error(y_test,y_pred)\n",
        "rmse=np.sqrt(mse)"
      ],
      "metadata": {
        "id": "yy5XpvS9DXHE"
      },
      "execution_count": 29,
      "outputs": []
    },
    {
      "cell_type": "code",
      "source": [
        "rmse"
      ],
      "metadata": {
        "colab": {
          "base_uri": "https://localhost:8080/"
        },
        "id": "7hi4Y9e5Dejq",
        "outputId": "2aa7e186-d105-48e4-db46-30789e584615"
      },
      "execution_count": 30,
      "outputs": [
        {
          "output_type": "execute_result",
          "data": {
            "text/plain": [
              "2924.1750358464274"
            ]
          },
          "metadata": {},
          "execution_count": 30
        }
      ]
    }
  ]
}