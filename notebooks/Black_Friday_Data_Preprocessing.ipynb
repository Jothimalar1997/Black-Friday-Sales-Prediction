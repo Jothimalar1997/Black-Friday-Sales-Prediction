{
  "cells": [
    {
      "cell_type": "code",
      "execution_count": 1,
      "metadata": {
        "id": "Mb9MvoL2zesP"
      },
      "outputs": [],
      "source": [
        "import pandas as pd\n",
        "import numpy as np\n",
        "import matplotlib.pyplot as plt\n",
        "import seaborn as sns"
      ]
    },
    {
      "cell_type": "code",
      "execution_count": 2,
      "metadata": {
        "colab": {
          "base_uri": "https://localhost:8080/",
          "height": 339
        },
        "id": "oV0mV8wMzsdP",
        "outputId": "241ce444-f73c-442c-fd6c-5a0dc8397d30"
      },
      "outputs": [
        {
          "data": {
            "text/html": [
              "<div>\n",
              "<style scoped>\n",
              "    .dataframe tbody tr th:only-of-type {\n",
              "        vertical-align: middle;\n",
              "    }\n",
              "\n",
              "    .dataframe tbody tr th {\n",
              "        vertical-align: top;\n",
              "    }\n",
              "\n",
              "    .dataframe thead th {\n",
              "        text-align: right;\n",
              "    }\n",
              "</style>\n",
              "<table border=\"1\" class=\"dataframe\">\n",
              "  <thead>\n",
              "    <tr style=\"text-align: right;\">\n",
              "      <th></th>\n",
              "      <th>User_ID</th>\n",
              "      <th>Product_ID</th>\n",
              "      <th>Gender</th>\n",
              "      <th>Age</th>\n",
              "      <th>Occupation</th>\n",
              "      <th>City_Category</th>\n",
              "      <th>Stay_In_Current_City_Years</th>\n",
              "      <th>Marital_Status</th>\n",
              "      <th>Product_Category_1</th>\n",
              "      <th>Product_Category_2</th>\n",
              "      <th>Product_Category_3</th>\n",
              "      <th>Purchase</th>\n",
              "    </tr>\n",
              "  </thead>\n",
              "  <tbody>\n",
              "    <tr>\n",
              "      <th>0</th>\n",
              "      <td>1000001</td>\n",
              "      <td>P00069042</td>\n",
              "      <td>F</td>\n",
              "      <td>0-17</td>\n",
              "      <td>10</td>\n",
              "      <td>A</td>\n",
              "      <td>2</td>\n",
              "      <td>0</td>\n",
              "      <td>3</td>\n",
              "      <td>NaN</td>\n",
              "      <td>NaN</td>\n",
              "      <td>8370</td>\n",
              "    </tr>\n",
              "    <tr>\n",
              "      <th>1</th>\n",
              "      <td>1000001</td>\n",
              "      <td>P00248942</td>\n",
              "      <td>F</td>\n",
              "      <td>0-17</td>\n",
              "      <td>10</td>\n",
              "      <td>A</td>\n",
              "      <td>2</td>\n",
              "      <td>0</td>\n",
              "      <td>1</td>\n",
              "      <td>6.0</td>\n",
              "      <td>14.0</td>\n",
              "      <td>15200</td>\n",
              "    </tr>\n",
              "    <tr>\n",
              "      <th>2</th>\n",
              "      <td>1000001</td>\n",
              "      <td>P00087842</td>\n",
              "      <td>F</td>\n",
              "      <td>0-17</td>\n",
              "      <td>10</td>\n",
              "      <td>A</td>\n",
              "      <td>2</td>\n",
              "      <td>0</td>\n",
              "      <td>12</td>\n",
              "      <td>NaN</td>\n",
              "      <td>NaN</td>\n",
              "      <td>1422</td>\n",
              "    </tr>\n",
              "    <tr>\n",
              "      <th>3</th>\n",
              "      <td>1000001</td>\n",
              "      <td>P00085442</td>\n",
              "      <td>F</td>\n",
              "      <td>0-17</td>\n",
              "      <td>10</td>\n",
              "      <td>A</td>\n",
              "      <td>2</td>\n",
              "      <td>0</td>\n",
              "      <td>12</td>\n",
              "      <td>14.0</td>\n",
              "      <td>NaN</td>\n",
              "      <td>1057</td>\n",
              "    </tr>\n",
              "    <tr>\n",
              "      <th>4</th>\n",
              "      <td>1000002</td>\n",
              "      <td>P00285442</td>\n",
              "      <td>M</td>\n",
              "      <td>55+</td>\n",
              "      <td>16</td>\n",
              "      <td>C</td>\n",
              "      <td>4+</td>\n",
              "      <td>0</td>\n",
              "      <td>8</td>\n",
              "      <td>NaN</td>\n",
              "      <td>NaN</td>\n",
              "      <td>7969</td>\n",
              "    </tr>\n",
              "  </tbody>\n",
              "</table>\n",
              "</div>"
            ],
            "text/plain": [
              "   User_ID Product_ID Gender   Age  Occupation City_Category  \\\n",
              "0  1000001  P00069042      F  0-17          10             A   \n",
              "1  1000001  P00248942      F  0-17          10             A   \n",
              "2  1000001  P00087842      F  0-17          10             A   \n",
              "3  1000001  P00085442      F  0-17          10             A   \n",
              "4  1000002  P00285442      M   55+          16             C   \n",
              "\n",
              "  Stay_In_Current_City_Years  Marital_Status  Product_Category_1  \\\n",
              "0                          2               0                   3   \n",
              "1                          2               0                   1   \n",
              "2                          2               0                  12   \n",
              "3                          2               0                  12   \n",
              "4                         4+               0                   8   \n",
              "\n",
              "   Product_Category_2  Product_Category_3  Purchase  \n",
              "0                 NaN                 NaN      8370  \n",
              "1                 6.0                14.0     15200  \n",
              "2                 NaN                 NaN      1422  \n",
              "3                14.0                 NaN      1057  \n",
              "4                 NaN                 NaN      7969  "
            ]
          },
          "execution_count": 2,
          "metadata": {},
          "output_type": "execute_result"
        }
      ],
      "source": [
        "# Loading the dataset\n",
        "df=pd.read_csv(\"G:\\JoJo\\Internship/Black Friday Sales Prediction/notebooks/data/Source.csv\")\n",
        "df.head()"
      ]
    },
    {
      "cell_type": "code",
      "execution_count": 3,
      "metadata": {
        "colab": {
          "base_uri": "https://localhost:8080/"
        },
        "id": "CWFNsL4cWr6K",
        "outputId": "cc5ff47f-7906-49d8-a3b1-d1d94dea25fd"
      },
      "outputs": [
        {
          "data": {
            "text/plain": [
              "0"
            ]
          },
          "execution_count": 3,
          "metadata": {},
          "output_type": "execute_result"
        }
      ],
      "source": [
        "# To check number of the duplicate records in the dataset\n",
        "df.duplicated().sum()"
      ]
    },
    {
      "cell_type": "code",
      "execution_count": 4,
      "metadata": {
        "id": "4YO_Ufj1WyXB"
      },
      "outputs": [],
      "source": [
        "# Dropping the duplicate records:\n",
        "df=df.drop_duplicates(keep='first')"
      ]
    },
    {
      "cell_type": "code",
      "execution_count": 5,
      "metadata": {
        "colab": {
          "base_uri": "https://localhost:8080/"
        },
        "id": "ItR2BiLbW3Mx",
        "outputId": "bae31acd-0689-413b-c1fe-f6fb9f880344"
      },
      "outputs": [
        {
          "data": {
            "text/plain": [
              "0"
            ]
          },
          "execution_count": 5,
          "metadata": {},
          "output_type": "execute_result"
        }
      ],
      "source": [
        "df.duplicated().sum()"
      ]
    },
    {
      "cell_type": "code",
      "execution_count": 6,
      "metadata": {
        "id": "IsR8kfs8zsgA"
      },
      "outputs": [],
      "source": [
        "# Splitting Dependent and Independent features:\n",
        "target_column_name = 'Purchase'\n",
        "drop_columns = [target_column_name,'User_ID','Product_ID']\n",
        "X=df.drop(columns=drop_columns,axis=1)\n",
        "y=df[target_column_name]"
      ]
    },
    {
      "cell_type": "code",
      "execution_count": 7,
      "metadata": {
        "colab": {
          "base_uri": "https://localhost:8080/"
        },
        "id": "5qYN7x8I1GSQ",
        "outputId": "62c74e79-246e-4490-d585-1fe8461efd93"
      },
      "outputs": [
        {
          "name": "stdout",
          "output_type": "stream",
          "text": [
            "<class 'pandas.core.frame.DataFrame'>\n",
            "RangeIndex: 550068 entries, 0 to 550067\n",
            "Data columns (total 9 columns):\n",
            " #   Column                      Non-Null Count   Dtype  \n",
            "---  ------                      --------------   -----  \n",
            " 0   Gender                      550068 non-null  object \n",
            " 1   Age                         550068 non-null  object \n",
            " 2   Occupation                  550068 non-null  int64  \n",
            " 3   City_Category               550068 non-null  object \n",
            " 4   Stay_In_Current_City_Years  550068 non-null  object \n",
            " 5   Marital_Status              550068 non-null  int64  \n",
            " 6   Product_Category_1          550068 non-null  int64  \n",
            " 7   Product_Category_2          376430 non-null  float64\n",
            " 8   Product_Category_3          166821 non-null  float64\n",
            "dtypes: float64(2), int64(3), object(4)\n",
            "memory usage: 37.8+ MB\n"
          ]
        }
      ],
      "source": [
        "X.info()"
      ]
    },
    {
      "cell_type": "code",
      "execution_count": 8,
      "metadata": {
        "id": "amPpIsfJzsi_"
      },
      "outputs": [],
      "source": [
        "X['Occupation']=X['Occupation'].astype('object')\n",
        "X['Marital_Status']=X['Marital_Status'].astype('object')\n",
        "X['Product_Category_1']=X['Product_Category_1'].astype('object')\n",
        "X['Product_Category_2']=X['Product_Category_2'].astype('object')\n",
        "X['Product_Category_3']=X['Product_Category_3'].astype('object')"
      ]
    },
    {
      "cell_type": "code",
      "execution_count": 9,
      "metadata": {
        "colab": {
          "base_uri": "https://localhost:8080/"
        },
        "id": "ToHZZoov0Ozm",
        "outputId": "3019661d-9093-4fe3-a2c0-5399cf3fb180"
      },
      "outputs": [
        {
          "name": "stdout",
          "output_type": "stream",
          "text": [
            "<class 'pandas.core.frame.DataFrame'>\n",
            "RangeIndex: 550068 entries, 0 to 550067\n",
            "Data columns (total 9 columns):\n",
            " #   Column                      Non-Null Count   Dtype \n",
            "---  ------                      --------------   ----- \n",
            " 0   Gender                      550068 non-null  object\n",
            " 1   Age                         550068 non-null  object\n",
            " 2   Occupation                  550068 non-null  object\n",
            " 3   City_Category               550068 non-null  object\n",
            " 4   Stay_In_Current_City_Years  550068 non-null  object\n",
            " 5   Marital_Status              550068 non-null  object\n",
            " 6   Product_Category_1          550068 non-null  object\n",
            " 7   Product_Category_2          376430 non-null  object\n",
            " 8   Product_Category_3          166821 non-null  object\n",
            "dtypes: object(9)\n",
            "memory usage: 37.8+ MB\n"
          ]
        }
      ],
      "source": [
        "X.info()"
      ]
    },
    {
      "cell_type": "code",
      "execution_count": 10,
      "metadata": {
        "colab": {
          "base_uri": "https://localhost:8080/"
        },
        "id": "hzAR_dHC0Ix-",
        "outputId": "c82d15b1-0a7a-4753-9063-d766dcc3bb68"
      },
      "outputs": [
        {
          "data": {
            "text/plain": [
              "Gender                             0\n",
              "Age                                0\n",
              "Occupation                         0\n",
              "City_Category                      0\n",
              "Stay_In_Current_City_Years         0\n",
              "Marital_Status                     0\n",
              "Product_Category_1                 0\n",
              "Product_Category_2            173638\n",
              "Product_Category_3            383247\n",
              "dtype: int64"
            ]
          },
          "execution_count": 10,
          "metadata": {},
          "output_type": "execute_result"
        }
      ],
      "source": [
        "# To check number of missing values in the dataset\n",
        "X.isnull().sum()"
      ]
    },
    {
      "cell_type": "code",
      "execution_count": 11,
      "metadata": {
        "colab": {
          "base_uri": "https://localhost:8080/"
        },
        "id": "H_w6vqlA52BE",
        "outputId": "a7a0376b-535b-4efd-e41e-d0fc48b92826"
      },
      "outputs": [
        {
          "data": {
            "text/plain": [
              "array([nan, 6.0, 14.0, 2.0, 8.0, 15.0, 16.0, 11.0, 5.0, 3.0, 4.0, 12.0,\n",
              "       9.0, 10.0, 17.0, 13.0, 7.0, 18.0], dtype=object)"
            ]
          },
          "execution_count": 11,
          "metadata": {},
          "output_type": "execute_result"
        }
      ],
      "source": [
        "X['Product_Category_2'].unique()"
      ]
    },
    {
      "cell_type": "code",
      "execution_count": 12,
      "metadata": {
        "colab": {
          "base_uri": "https://localhost:8080/"
        },
        "id": "XctkAMue6_8d",
        "outputId": "80e28fe7-77e9-46f7-9bb5-71df76fd56c8"
      },
      "outputs": [
        {
          "data": {
            "text/plain": [
              "array([nan, 14.0, 17.0, 5.0, 4.0, 16.0, 15.0, 8.0, 9.0, 13.0, 6.0, 12.0,\n",
              "       3.0, 18.0, 11.0, 10.0], dtype=object)"
            ]
          },
          "execution_count": 12,
          "metadata": {},
          "output_type": "execute_result"
        }
      ],
      "source": [
        "X['Product_Category_3'].unique()"
      ]
    },
    {
      "cell_type": "code",
      "execution_count": 13,
      "metadata": {
        "id": "-MiWyEBuhUd1"
      },
      "outputs": [],
      "source": [
        "# Train Test Split\n",
        "from sklearn.model_selection import train_test_split\n",
        "X_train,X_test,y_train,y_test=train_test_split(X,y,test_size=0.25,random_state=42)"
      ]
    },
    {
      "cell_type": "code",
      "execution_count": 14,
      "metadata": {
        "colab": {
          "base_uri": "https://localhost:8080/"
        },
        "id": "EnRKgTWUhUlV",
        "outputId": "048d9c68-3cac-40ab-d906-b41aae982944"
      },
      "outputs": [
        {
          "data": {
            "text/plain": [
              "((412551, 9), (137517, 9), (412551,), (137517,))"
            ]
          },
          "execution_count": 14,
          "metadata": {},
          "output_type": "execute_result"
        }
      ],
      "source": [
        "X_train.shape,X_test.shape,y_train.shape,y_test.shape"
      ]
    },
    {
      "cell_type": "code",
      "execution_count": 15,
      "metadata": {
        "id": "JIP8WBUD0U1-"
      },
      "outputs": [],
      "source": [
        "#Pipeline Creation:\n",
        "from sklearn.compose import ColumnTransformer\n",
        "from sklearn.impute import SimpleImputer\n",
        "from sklearn.pipeline import Pipeline\n",
        "from sklearn.preprocessing import OrdinalEncoder,StandardScaler\n",
        "\n",
        "# Define the categorical and numerical columns\n",
        "categorical_cols = ['Gender','Age','Occupation','City_Category','Stay_In_Current_City_Years','Marital_Status','Product_Category_1','Product_Category_2','Product_Category_3']\n",
        "# Define the custom ranking for each ordinal variable\n",
        "age_categories = ['0-17', '18-25', '26-35', '36-45', '46-50', '51-55', '55+']\n",
        "occupation_categories = list(range(21))\n",
        "city_categories = ['A', 'B', 'C']\n",
        "stay_years_categories = ['0', '1', '2', '3', '4+']\n",
        "marital_status_categories = [0, 1]\n",
        "product_categories = list(range(1, 21))\n",
        "product_categories.append(None)  # Adding 'nan' as a category\n",
        "\n",
        "# Categorical Pipeline\n",
        "cat_pipeline = Pipeline(\n",
        "     steps=[\n",
        "        ('imputer', SimpleImputer(strategy='most_frequent')),\n",
        "        ('ordinalencoder', OrdinalEncoder(categories=[['M', 'F'], age_categories, occupation_categories, city_categories, stay_years_categories, marital_status_categories, product_categories, product_categories, product_categories])),\n",
        "        ('scaler', StandardScaler())\n",
        "      ]\n",
        "  )\n",
        "\n",
        "preprocessor = ColumnTransformer([\n",
        "                ('cat_pipeline', cat_pipeline, categorical_cols)\n",
        "            ])\n"
      ]
    },
    {
      "cell_type": "code",
      "execution_count": 16,
      "metadata": {
        "id": "tkWXeOeHXT3q"
      },
      "outputs": [],
      "source": [
        "# Data Transformation\n",
        "X_train=preprocessor.fit_transform(X_train)\n",
        "X_test=preprocessor.transform(X_test)"
      ]
    },
    {
      "cell_type": "markdown",
      "metadata": {
        "id": "dfHXMBH6aaRR"
      },
      "source": [
        "# Model Training and Model Evaluation"
      ]
    },
    {
      "cell_type": "code",
      "execution_count": 17,
      "metadata": {
        "id": "tiZCEybQDvk8"
      },
      "outputs": [],
      "source": [
        "from sklearn.linear_model import LinearRegression,Lasso,Ridge,ElasticNet\n",
        "from sklearn.tree import DecisionTreeRegressor\n",
        "from sklearn.ensemble import RandomForestRegressor\n",
        "from sklearn.ensemble import AdaBoostRegressor,GradientBoostingRegressor\n",
        "from sklearn.metrics import mean_squared_error"
      ]
    },
    {
      "cell_type": "code",
      "execution_count": 18,
      "metadata": {
        "id": "aF8Bp_0qDvn_"
      },
      "outputs": [],
      "source": [
        "linear=LinearRegression()\n",
        "lasso=Lasso()\n",
        "ridge=Ridge()\n",
        "elastic=ElasticNet()\n",
        "decisiontree=DecisionTreeRegressor()\n",
        "randomforest=RandomForestRegressor()\n",
        "adaboost=AdaBoostRegressor()\n",
        "gboost=GradientBoostingRegressor()"
      ]
    },
    {
      "cell_type": "code",
      "execution_count": 19,
      "metadata": {
        "id": "AD_BstC3Dvqv"
      },
      "outputs": [],
      "source": [
        "import time\n",
        "models=[linear,lasso,ridge,elastic,decisiontree,randomforest,adaboost,gboost]\n",
        "result=pd.DataFrame(columns=['Model Name','RMSE'])\n",
        "\n",
        "def build_and_evaluate_models(X_train,X_test,y_train,y_test,models):\n",
        "  for model in models:\n",
        "    start=time.time()\n",
        "    trained_model=model.fit(X_train,y_train)\n",
        "    end=time.time()\n",
        "    fit_time=end-start\n",
        "\n",
        "    start=time.time()\n",
        "    y_pred=trained_model.predict(X_test)\n",
        "    end=time.time()\n",
        "    fit_time=end-start\n",
        "\n",
        "    mse=mean_squared_error(y_test,y_pred)\n",
        "    rmse=np.sqrt(mse)\n",
        "\n",
        "    result.loc[len(result)]=[model.__class__.__name__,rmse]\n",
        "  return result\n",
        "\n",
        "result = build_and_evaluate_models(X_train,X_test,y_train,y_test,models)"
      ]
    },
    {
      "cell_type": "code",
      "execution_count": 20,
      "metadata": {
        "colab": {
          "base_uri": "https://localhost:8080/",
          "height": 300
        },
        "id": "sTXkjAXUy8bN",
        "outputId": "1c7967cb-e2af-44cc-f514-68abe5dbab96"
      },
      "outputs": [
        {
          "data": {
            "text/html": [
              "<div>\n",
              "<style scoped>\n",
              "    .dataframe tbody tr th:only-of-type {\n",
              "        vertical-align: middle;\n",
              "    }\n",
              "\n",
              "    .dataframe tbody tr th {\n",
              "        vertical-align: top;\n",
              "    }\n",
              "\n",
              "    .dataframe thead th {\n",
              "        text-align: right;\n",
              "    }\n",
              "</style>\n",
              "<table border=\"1\" class=\"dataframe\">\n",
              "  <thead>\n",
              "    <tr style=\"text-align: right;\">\n",
              "      <th></th>\n",
              "      <th>Model Name</th>\n",
              "      <th>RMSE</th>\n",
              "    </tr>\n",
              "  </thead>\n",
              "  <tbody>\n",
              "    <tr>\n",
              "      <th>0</th>\n",
              "      <td>LinearRegression</td>\n",
              "      <td>4678.611633</td>\n",
              "    </tr>\n",
              "    <tr>\n",
              "      <th>1</th>\n",
              "      <td>Lasso</td>\n",
              "      <td>4678.610917</td>\n",
              "    </tr>\n",
              "    <tr>\n",
              "      <th>2</th>\n",
              "      <td>Ridge</td>\n",
              "      <td>4678.611617</td>\n",
              "    </tr>\n",
              "    <tr>\n",
              "      <th>3</th>\n",
              "      <td>ElasticNet</td>\n",
              "      <td>4708.826459</td>\n",
              "    </tr>\n",
              "    <tr>\n",
              "      <th>4</th>\n",
              "      <td>DecisionTreeRegressor</td>\n",
              "      <td>3326.379377</td>\n",
              "    </tr>\n",
              "    <tr>\n",
              "      <th>5</th>\n",
              "      <td>RandomForestRegressor</td>\n",
              "      <td>3054.686126</td>\n",
              "    </tr>\n",
              "    <tr>\n",
              "      <th>6</th>\n",
              "      <td>AdaBoostRegressor</td>\n",
              "      <td>3885.032187</td>\n",
              "    </tr>\n",
              "    <tr>\n",
              "      <th>7</th>\n",
              "      <td>GradientBoostingRegressor</td>\n",
              "      <td>2993.335865</td>\n",
              "    </tr>\n",
              "  </tbody>\n",
              "</table>\n",
              "</div>"
            ],
            "text/plain": [
              "                  Model Name         RMSE\n",
              "0           LinearRegression  4678.611633\n",
              "1                      Lasso  4678.610917\n",
              "2                      Ridge  4678.611617\n",
              "3                 ElasticNet  4708.826459\n",
              "4      DecisionTreeRegressor  3326.379377\n",
              "5      RandomForestRegressor  3054.686126\n",
              "6          AdaBoostRegressor  3885.032187\n",
              "7  GradientBoostingRegressor  2993.335865"
            ]
          },
          "execution_count": 20,
          "metadata": {},
          "output_type": "execute_result"
        }
      ],
      "source": [
        "result"
      ]
    },
    {
      "cell_type": "markdown",
      "metadata": {
        "id": "_jzQLoEaajvY"
      },
      "source": [
        "# Hyperparameter Tuning Using GradientBoosting Regressor"
      ]
    },
    {
      "cell_type": "code",
      "execution_count": 21,
      "metadata": {
        "id": "xbNwLFZay9Nc"
      },
      "outputs": [],
      "source": [
        "# Hyperparamter Tuning Using # Hyperparameter Tuning Using GradientBoosting Regression:\n",
        "# GridSearch CV\n",
        "from sklearn.model_selection import GridSearchCV\n",
        "parameter={\n",
        " 'alpha':[0.01,1,10],\n",
        " 'learning_rate':[0.01,1,10],\n",
        " 'n_estimators':[100,200,300]\n",
        "}"
      ]
    },
    {
      "cell_type": "code",
      "execution_count": 22,
      "metadata": {
        "colab": {
          "base_uri": "https://localhost:8080/",
          "height": 1000
        },
        "id": "0ho-CDMt-Bnq",
        "outputId": "669a7907-8dea-47fc-da3b-ec8e1e003b95"
      },
      "outputs": [
        {
          "name": "stdout",
          "output_type": "stream",
          "text": [
            "Fitting 5 folds for each of 27 candidates, totalling 135 fits\n",
            "[CV 1/5] END alpha=0.01, learning_rate=0.01, n_estimators=100;, score=-3815.704 total time=  45.1s\n",
            "[CV 2/5] END alpha=0.01, learning_rate=0.01, n_estimators=100;, score=-3812.913 total time=  32.6s\n",
            "[CV 3/5] END alpha=0.01, learning_rate=0.01, n_estimators=100;, score=-3812.065 total time=  32.0s\n",
            "[CV 4/5] END alpha=0.01, learning_rate=0.01, n_estimators=100;, score=-3817.248 total time=  32.1s\n",
            "[CV 5/5] END alpha=0.01, learning_rate=0.01, n_estimators=100;, score=-3835.522 total time=  33.1s\n",
            "[CV 1/5] END alpha=0.01, learning_rate=0.01, n_estimators=200;, score=-3396.726 total time= 1.1min\n",
            "[CV 2/5] END alpha=0.01, learning_rate=0.01, n_estimators=200;, score=-3388.064 total time= 1.4min\n",
            "[CV 3/5] END alpha=0.01, learning_rate=0.01, n_estimators=200;, score=-3453.835 total time= 1.7min\n",
            "[CV 4/5] END alpha=0.01, learning_rate=0.01, n_estimators=200;, score=-3417.256 total time= 1.6min\n",
            "[CV 5/5] END alpha=0.01, learning_rate=0.01, n_estimators=200;, score=-3424.439 total time= 1.7min\n",
            "[CV 1/5] END alpha=0.01, learning_rate=0.01, n_estimators=300;, score=-3160.413 total time= 3.1min\n",
            "[CV 2/5] END alpha=0.01, learning_rate=0.01, n_estimators=300;, score=-3151.236 total time= 1.3min\n",
            "[CV 3/5] END alpha=0.01, learning_rate=0.01, n_estimators=300;, score=-3197.020 total time= 1.4min\n",
            "[CV 4/5] END alpha=0.01, learning_rate=0.01, n_estimators=300;, score=-3167.579 total time= 1.4min\n",
            "[CV 5/5] END alpha=0.01, learning_rate=0.01, n_estimators=300;, score=-3170.058 total time= 1.4min\n",
            "[CV 1/5] END alpha=0.01, learning_rate=1, n_estimators=100;, score=-2923.159 total time=  27.4s\n",
            "[CV 2/5] END alpha=0.01, learning_rate=1, n_estimators=100;, score=-2918.480 total time=  27.4s\n",
            "[CV 3/5] END alpha=0.01, learning_rate=1, n_estimators=100;, score=-2931.911 total time=  27.4s\n",
            "[CV 4/5] END alpha=0.01, learning_rate=1, n_estimators=100;, score=-2924.020 total time=  27.7s\n",
            "[CV 5/5] END alpha=0.01, learning_rate=1, n_estimators=100;, score=-2911.808 total time=  27.5s\n",
            "[CV 1/5] END alpha=0.01, learning_rate=1, n_estimators=200;, score=-2910.544 total time=  54.8s\n",
            "[CV 2/5] END alpha=0.01, learning_rate=1, n_estimators=200;, score=-2910.255 total time=  54.2s\n",
            "[CV 3/5] END alpha=0.01, learning_rate=1, n_estimators=200;, score=-2922.062 total time=  55.6s\n",
            "[CV 4/5] END alpha=0.01, learning_rate=1, n_estimators=200;, score=-2917.804 total time=  53.1s\n",
            "[CV 5/5] END alpha=0.01, learning_rate=1, n_estimators=200;, score=-2901.229 total time=  52.6s\n",
            "[CV 1/5] END alpha=0.01, learning_rate=1, n_estimators=300;, score=-2906.254 total time= 1.4min\n",
            "[CV 2/5] END alpha=0.01, learning_rate=1, n_estimators=300;, score=-2906.901 total time= 1.4min\n",
            "[CV 3/5] END alpha=0.01, learning_rate=1, n_estimators=300;, score=-2916.674 total time= 1.4min\n",
            "[CV 4/5] END alpha=0.01, learning_rate=1, n_estimators=300;, score=-2914.453 total time= 1.4min\n",
            "[CV 5/5] END alpha=0.01, learning_rate=1, n_estimators=300;, score=-2897.280 total time= 1.3min\n",
            "[CV 1/5] END alpha=0.01, learning_rate=10, n_estimators=100;, score=-888882325895956914889812177564292568142254807614982813395573415210462207751499115861005412826349568.000 total time=  27.3s\n",
            "[CV 2/5] END alpha=0.01, learning_rate=10, n_estimators=100;, score=-888051099529407718421378960104890814879226459653858220751279020674152469139704624590133378326462464.000 total time=  29.1s\n",
            "[CV 3/5] END alpha=0.01, learning_rate=10, n_estimators=100;, score=-888026813511874465440517941517571397574464029431465978275420587955638560843937228286976094980014080.000 total time=  28.1s\n",
            "[CV 4/5] END alpha=0.01, learning_rate=10, n_estimators=100;, score=-890685398754960214087379441230984885499250019669977152177083316497417938031830237340430761984000000.000 total time=  26.4s\n",
            "[CV 5/5] END alpha=0.01, learning_rate=10, n_estimators=100;, score=-887917209151634528552294894508987582162530932833730753644568169926442464132440714273443862395486208.000 total time=  27.9s\n",
            "[CV 1/5] END alpha=0.01, learning_rate=10, n_estimators=200;, score=-inf total time=  56.0s\n",
            "[CV 2/5] END alpha=0.01, learning_rate=10, n_estimators=200;, score=-inf total time=  52.9s\n",
            "[CV 3/5] END alpha=0.01, learning_rate=10, n_estimators=200;, score=-inf total time=  53.2s\n",
            "[CV 4/5] END alpha=0.01, learning_rate=10, n_estimators=200;, score=-inf total time=  53.3s\n",
            "[CV 5/5] END alpha=0.01, learning_rate=10, n_estimators=200;, score=-inf total time=  52.9s\n",
            "[CV 1/5] END alpha=0.01, learning_rate=10, n_estimators=300;, score=-inf total time= 1.3min\n",
            "[CV 2/5] END alpha=0.01, learning_rate=10, n_estimators=300;, score=-inf total time= 1.4min\n",
            "[CV 3/5] END alpha=0.01, learning_rate=10, n_estimators=300;, score=-inf total time= 1.2min\n",
            "[CV 4/5] END alpha=0.01, learning_rate=10, n_estimators=300;, score=-inf total time= 1.3min\n",
            "[CV 5/5] END alpha=0.01, learning_rate=10, n_estimators=300;, score=-inf total time= 1.3min\n",
            "[CV 1/5] END alpha=1, learning_rate=0.01, n_estimators=100;, score=nan total time=   0.0s\n",
            "[CV 2/5] END alpha=1, learning_rate=0.01, n_estimators=100;, score=nan total time=   0.0s\n",
            "[CV 3/5] END alpha=1, learning_rate=0.01, n_estimators=100;, score=nan total time=   0.0s\n",
            "[CV 4/5] END alpha=1, learning_rate=0.01, n_estimators=100;, score=nan total time=   0.0s\n",
            "[CV 5/5] END alpha=1, learning_rate=0.01, n_estimators=100;, score=nan total time=   0.0s\n",
            "[CV 1/5] END alpha=1, learning_rate=0.01, n_estimators=200;, score=nan total time=   0.0s\n",
            "[CV 2/5] END alpha=1, learning_rate=0.01, n_estimators=200;, score=nan total time=   0.0s\n",
            "[CV 3/5] END alpha=1, learning_rate=0.01, n_estimators=200;, score=nan total time=   0.0s\n",
            "[CV 4/5] END alpha=1, learning_rate=0.01, n_estimators=200;, score=nan total time=   0.0s\n",
            "[CV 5/5] END alpha=1, learning_rate=0.01, n_estimators=200;, score=nan total time=   0.0s\n",
            "[CV 1/5] END alpha=1, learning_rate=0.01, n_estimators=300;, score=nan total time=   0.0s\n",
            "[CV 2/5] END alpha=1, learning_rate=0.01, n_estimators=300;, score=nan total time=   0.0s\n",
            "[CV 3/5] END alpha=1, learning_rate=0.01, n_estimators=300;, score=nan total time=   0.0s\n",
            "[CV 4/5] END alpha=1, learning_rate=0.01, n_estimators=300;, score=nan total time=   0.0s\n",
            "[CV 5/5] END alpha=1, learning_rate=0.01, n_estimators=300;, score=nan total time=   0.0s\n",
            "[CV 1/5] END alpha=1, learning_rate=1, n_estimators=100;, score=nan total time=   0.0s\n",
            "[CV 2/5] END alpha=1, learning_rate=1, n_estimators=100;, score=nan total time=   0.0s\n",
            "[CV 3/5] END alpha=1, learning_rate=1, n_estimators=100;, score=nan total time=   0.0s\n",
            "[CV 4/5] END alpha=1, learning_rate=1, n_estimators=100;, score=nan total time=   0.0s\n",
            "[CV 5/5] END alpha=1, learning_rate=1, n_estimators=100;, score=nan total time=   0.0s\n",
            "[CV 1/5] END alpha=1, learning_rate=1, n_estimators=200;, score=nan total time=   0.0s\n",
            "[CV 2/5] END alpha=1, learning_rate=1, n_estimators=200;, score=nan total time=   0.0s\n",
            "[CV 3/5] END alpha=1, learning_rate=1, n_estimators=200;, score=nan total time=   0.0s\n",
            "[CV 4/5] END alpha=1, learning_rate=1, n_estimators=200;, score=nan total time=   0.0s\n",
            "[CV 5/5] END alpha=1, learning_rate=1, n_estimators=200;, score=nan total time=   0.0s\n",
            "[CV 1/5] END alpha=1, learning_rate=1, n_estimators=300;, score=nan total time=   0.0s\n",
            "[CV 2/5] END alpha=1, learning_rate=1, n_estimators=300;, score=nan total time=   0.0s\n",
            "[CV 3/5] END alpha=1, learning_rate=1, n_estimators=300;, score=nan total time=   0.0s\n",
            "[CV 4/5] END alpha=1, learning_rate=1, n_estimators=300;, score=nan total time=   0.0s\n",
            "[CV 5/5] END alpha=1, learning_rate=1, n_estimators=300;, score=nan total time=   0.0s\n",
            "[CV 1/5] END alpha=1, learning_rate=10, n_estimators=100;, score=nan total time=   0.0s\n",
            "[CV 2/5] END alpha=1, learning_rate=10, n_estimators=100;, score=nan total time=   0.0s\n",
            "[CV 3/5] END alpha=1, learning_rate=10, n_estimators=100;, score=nan total time=   0.0s\n",
            "[CV 4/5] END alpha=1, learning_rate=10, n_estimators=100;, score=nan total time=   0.0s\n",
            "[CV 5/5] END alpha=1, learning_rate=10, n_estimators=100;, score=nan total time=   0.0s\n",
            "[CV 1/5] END alpha=1, learning_rate=10, n_estimators=200;, score=nan total time=   0.0s\n",
            "[CV 2/5] END alpha=1, learning_rate=10, n_estimators=200;, score=nan total time=   0.0s\n",
            "[CV 3/5] END alpha=1, learning_rate=10, n_estimators=200;, score=nan total time=   0.0s\n",
            "[CV 4/5] END alpha=1, learning_rate=10, n_estimators=200;, score=nan total time=   0.0s\n",
            "[CV 5/5] END alpha=1, learning_rate=10, n_estimators=200;, score=nan total time=   0.0s\n",
            "[CV 1/5] END alpha=1, learning_rate=10, n_estimators=300;, score=nan total time=   0.0s\n",
            "[CV 2/5] END alpha=1, learning_rate=10, n_estimators=300;, score=nan total time=   0.0s\n",
            "[CV 3/5] END alpha=1, learning_rate=10, n_estimators=300;, score=nan total time=   0.0s\n",
            "[CV 4/5] END alpha=1, learning_rate=10, n_estimators=300;, score=nan total time=   0.0s\n",
            "[CV 5/5] END alpha=1, learning_rate=10, n_estimators=300;, score=nan total time=   0.0s\n",
            "[CV 1/5] END alpha=10, learning_rate=0.01, n_estimators=100;, score=nan total time=   0.0s\n",
            "[CV 2/5] END alpha=10, learning_rate=0.01, n_estimators=100;, score=nan total time=   0.0s\n",
            "[CV 3/5] END alpha=10, learning_rate=0.01, n_estimators=100;, score=nan total time=   0.0s\n",
            "[CV 4/5] END alpha=10, learning_rate=0.01, n_estimators=100;, score=nan total time=   0.0s\n",
            "[CV 5/5] END alpha=10, learning_rate=0.01, n_estimators=100;, score=nan total time=   0.0s\n",
            "[CV 1/5] END alpha=10, learning_rate=0.01, n_estimators=200;, score=nan total time=   0.0s\n",
            "[CV 2/5] END alpha=10, learning_rate=0.01, n_estimators=200;, score=nan total time=   0.0s\n",
            "[CV 3/5] END alpha=10, learning_rate=0.01, n_estimators=200;, score=nan total time=   0.0s\n",
            "[CV 4/5] END alpha=10, learning_rate=0.01, n_estimators=200;, score=nan total time=   0.0s\n",
            "[CV 5/5] END alpha=10, learning_rate=0.01, n_estimators=200;, score=nan total time=   0.0s\n",
            "[CV 1/5] END alpha=10, learning_rate=0.01, n_estimators=300;, score=nan total time=   0.0s\n",
            "[CV 2/5] END alpha=10, learning_rate=0.01, n_estimators=300;, score=nan total time=   0.0s\n",
            "[CV 3/5] END alpha=10, learning_rate=0.01, n_estimators=300;, score=nan total time=   0.0s\n",
            "[CV 4/5] END alpha=10, learning_rate=0.01, n_estimators=300;, score=nan total time=   0.0s\n",
            "[CV 5/5] END alpha=10, learning_rate=0.01, n_estimators=300;, score=nan total time=   0.0s\n",
            "[CV 1/5] END alpha=10, learning_rate=1, n_estimators=100;, score=nan total time=   0.0s\n",
            "[CV 2/5] END alpha=10, learning_rate=1, n_estimators=100;, score=nan total time=   0.0s\n",
            "[CV 3/5] END alpha=10, learning_rate=1, n_estimators=100;, score=nan total time=   0.0s\n",
            "[CV 4/5] END alpha=10, learning_rate=1, n_estimators=100;, score=nan total time=   0.0s\n",
            "[CV 5/5] END alpha=10, learning_rate=1, n_estimators=100;, score=nan total time=   0.0s\n",
            "[CV 1/5] END alpha=10, learning_rate=1, n_estimators=200;, score=nan total time=   0.0s\n",
            "[CV 2/5] END alpha=10, learning_rate=1, n_estimators=200;, score=nan total time=   0.0s\n",
            "[CV 3/5] END alpha=10, learning_rate=1, n_estimators=200;, score=nan total time=   0.0s\n",
            "[CV 4/5] END alpha=10, learning_rate=1, n_estimators=200;, score=nan total time=   0.0s\n",
            "[CV 5/5] END alpha=10, learning_rate=1, n_estimators=200;, score=nan total time=   0.0s\n",
            "[CV 1/5] END alpha=10, learning_rate=1, n_estimators=300;, score=nan total time=   0.0s\n",
            "[CV 2/5] END alpha=10, learning_rate=1, n_estimators=300;, score=nan total time=   0.0s\n",
            "[CV 3/5] END alpha=10, learning_rate=1, n_estimators=300;, score=nan total time=   0.0s\n",
            "[CV 4/5] END alpha=10, learning_rate=1, n_estimators=300;, score=nan total time=   0.0s\n",
            "[CV 5/5] END alpha=10, learning_rate=1, n_estimators=300;, score=nan total time=   0.0s\n",
            "[CV 1/5] END alpha=10, learning_rate=10, n_estimators=100;, score=nan total time=   0.0s\n",
            "[CV 2/5] END alpha=10, learning_rate=10, n_estimators=100;, score=nan total time=   0.0s\n",
            "[CV 3/5] END alpha=10, learning_rate=10, n_estimators=100;, score=nan total time=   0.0s\n",
            "[CV 4/5] END alpha=10, learning_rate=10, n_estimators=100;, score=nan total time=   0.0s\n",
            "[CV 5/5] END alpha=10, learning_rate=10, n_estimators=100;, score=nan total time=   0.0s\n",
            "[CV 1/5] END alpha=10, learning_rate=10, n_estimators=200;, score=nan total time=   0.0s\n",
            "[CV 2/5] END alpha=10, learning_rate=10, n_estimators=200;, score=nan total time=   0.0s\n",
            "[CV 3/5] END alpha=10, learning_rate=10, n_estimators=200;, score=nan total time=   0.0s\n",
            "[CV 4/5] END alpha=10, learning_rate=10, n_estimators=200;, score=nan total time=   0.0s\n",
            "[CV 5/5] END alpha=10, learning_rate=10, n_estimators=200;, score=nan total time=   0.0s\n",
            "[CV 1/5] END alpha=10, learning_rate=10, n_estimators=300;, score=nan total time=   0.0s\n",
            "[CV 2/5] END alpha=10, learning_rate=10, n_estimators=300;, score=nan total time=   0.0s\n",
            "[CV 3/5] END alpha=10, learning_rate=10, n_estimators=300;, score=nan total time=   0.0s\n",
            "[CV 4/5] END alpha=10, learning_rate=10, n_estimators=300;, score=nan total time=   0.0s\n",
            "[CV 5/5] END alpha=10, learning_rate=10, n_estimators=300;, score=nan total time=   0.0s\n"
          ]
        },
        {
          "data": {
            "text/html": [
              "<style>#sk-container-id-1 {color: black;}#sk-container-id-1 pre{padding: 0;}#sk-container-id-1 div.sk-toggleable {background-color: white;}#sk-container-id-1 label.sk-toggleable__label {cursor: pointer;display: block;width: 100%;margin-bottom: 0;padding: 0.3em;box-sizing: border-box;text-align: center;}#sk-container-id-1 label.sk-toggleable__label-arrow:before {content: \"▸\";float: left;margin-right: 0.25em;color: #696969;}#sk-container-id-1 label.sk-toggleable__label-arrow:hover:before {color: black;}#sk-container-id-1 div.sk-estimator:hover label.sk-toggleable__label-arrow:before {color: black;}#sk-container-id-1 div.sk-toggleable__content {max-height: 0;max-width: 0;overflow: hidden;text-align: left;background-color: #f0f8ff;}#sk-container-id-1 div.sk-toggleable__content pre {margin: 0.2em;color: black;border-radius: 0.25em;background-color: #f0f8ff;}#sk-container-id-1 input.sk-toggleable__control:checked~div.sk-toggleable__content {max-height: 200px;max-width: 100%;overflow: auto;}#sk-container-id-1 input.sk-toggleable__control:checked~label.sk-toggleable__label-arrow:before {content: \"▾\";}#sk-container-id-1 div.sk-estimator input.sk-toggleable__control:checked~label.sk-toggleable__label {background-color: #d4ebff;}#sk-container-id-1 div.sk-label input.sk-toggleable__control:checked~label.sk-toggleable__label {background-color: #d4ebff;}#sk-container-id-1 input.sk-hidden--visually {border: 0;clip: rect(1px 1px 1px 1px);clip: rect(1px, 1px, 1px, 1px);height: 1px;margin: -1px;overflow: hidden;padding: 0;position: absolute;width: 1px;}#sk-container-id-1 div.sk-estimator {font-family: monospace;background-color: #f0f8ff;border: 1px dotted black;border-radius: 0.25em;box-sizing: border-box;margin-bottom: 0.5em;}#sk-container-id-1 div.sk-estimator:hover {background-color: #d4ebff;}#sk-container-id-1 div.sk-parallel-item::after {content: \"\";width: 100%;border-bottom: 1px solid gray;flex-grow: 1;}#sk-container-id-1 div.sk-label:hover label.sk-toggleable__label {background-color: #d4ebff;}#sk-container-id-1 div.sk-serial::before {content: \"\";position: absolute;border-left: 1px solid gray;box-sizing: border-box;top: 0;bottom: 0;left: 50%;z-index: 0;}#sk-container-id-1 div.sk-serial {display: flex;flex-direction: column;align-items: center;background-color: white;padding-right: 0.2em;padding-left: 0.2em;position: relative;}#sk-container-id-1 div.sk-item {position: relative;z-index: 1;}#sk-container-id-1 div.sk-parallel {display: flex;align-items: stretch;justify-content: center;background-color: white;position: relative;}#sk-container-id-1 div.sk-item::before, #sk-container-id-1 div.sk-parallel-item::before {content: \"\";position: absolute;border-left: 1px solid gray;box-sizing: border-box;top: 0;bottom: 0;left: 50%;z-index: -1;}#sk-container-id-1 div.sk-parallel-item {display: flex;flex-direction: column;z-index: 1;position: relative;background-color: white;}#sk-container-id-1 div.sk-parallel-item:first-child::after {align-self: flex-end;width: 50%;}#sk-container-id-1 div.sk-parallel-item:last-child::after {align-self: flex-start;width: 50%;}#sk-container-id-1 div.sk-parallel-item:only-child::after {width: 0;}#sk-container-id-1 div.sk-dashed-wrapped {border: 1px dashed gray;margin: 0 0.4em 0.5em 0.4em;box-sizing: border-box;padding-bottom: 0.4em;background-color: white;}#sk-container-id-1 div.sk-label label {font-family: monospace;font-weight: bold;display: inline-block;line-height: 1.2em;}#sk-container-id-1 div.sk-label-container {text-align: center;}#sk-container-id-1 div.sk-container {/* jupyter's `normalize.less` sets `[hidden] { display: none; }` but bootstrap.min.css set `[hidden] { display: none !important; }` so we also need the `!important` here to be able to override the default hidden behavior on the sphinx rendered scikit-learn.org. See: https://github.com/scikit-learn/scikit-learn/issues/21755 */display: inline-block !important;position: relative;}#sk-container-id-1 div.sk-text-repr-fallback {display: none;}</style><div id=\"sk-container-id-1\" class=\"sk-top-container\"><div class=\"sk-text-repr-fallback\"><pre>GridSearchCV(cv=5, estimator=GradientBoostingRegressor(),\n",
              "             param_grid={&#x27;alpha&#x27;: [0.01, 1, 10], &#x27;learning_rate&#x27;: [0.01, 1, 10],\n",
              "                         &#x27;n_estimators&#x27;: [100, 200, 300]},\n",
              "             scoring=&#x27;neg_root_mean_squared_error&#x27;, verbose=3)</pre><b>In a Jupyter environment, please rerun this cell to show the HTML representation or trust the notebook. <br />On GitHub, the HTML representation is unable to render, please try loading this page with nbviewer.org.</b></div><div class=\"sk-container\" hidden><div class=\"sk-item sk-dashed-wrapped\"><div class=\"sk-label-container\"><div class=\"sk-label sk-toggleable\"><input class=\"sk-toggleable__control sk-hidden--visually\" id=\"sk-estimator-id-1\" type=\"checkbox\" ><label for=\"sk-estimator-id-1\" class=\"sk-toggleable__label sk-toggleable__label-arrow\">GridSearchCV</label><div class=\"sk-toggleable__content\"><pre>GridSearchCV(cv=5, estimator=GradientBoostingRegressor(),\n",
              "             param_grid={&#x27;alpha&#x27;: [0.01, 1, 10], &#x27;learning_rate&#x27;: [0.01, 1, 10],\n",
              "                         &#x27;n_estimators&#x27;: [100, 200, 300]},\n",
              "             scoring=&#x27;neg_root_mean_squared_error&#x27;, verbose=3)</pre></div></div></div><div class=\"sk-parallel\"><div class=\"sk-parallel-item\"><div class=\"sk-item\"><div class=\"sk-label-container\"><div class=\"sk-label sk-toggleable\"><input class=\"sk-toggleable__control sk-hidden--visually\" id=\"sk-estimator-id-2\" type=\"checkbox\" ><label for=\"sk-estimator-id-2\" class=\"sk-toggleable__label sk-toggleable__label-arrow\">estimator: GradientBoostingRegressor</label><div class=\"sk-toggleable__content\"><pre>GradientBoostingRegressor()</pre></div></div></div><div class=\"sk-serial\"><div class=\"sk-item\"><div class=\"sk-estimator sk-toggleable\"><input class=\"sk-toggleable__control sk-hidden--visually\" id=\"sk-estimator-id-3\" type=\"checkbox\" ><label for=\"sk-estimator-id-3\" class=\"sk-toggleable__label sk-toggleable__label-arrow\">GradientBoostingRegressor</label><div class=\"sk-toggleable__content\"><pre>GradientBoostingRegressor()</pre></div></div></div></div></div></div></div></div></div></div>"
            ],
            "text/plain": [
              "GridSearchCV(cv=5, estimator=GradientBoostingRegressor(),\n",
              "             param_grid={'alpha': [0.01, 1, 10], 'learning_rate': [0.01, 1, 10],\n",
              "                         'n_estimators': [100, 200, 300]},\n",
              "             scoring='neg_root_mean_squared_error', verbose=3)"
            ]
          },
          "execution_count": 22,
          "metadata": {},
          "output_type": "execute_result"
        }
      ],
      "source": [
        "regressor=GradientBoostingRegressor()\n",
        "reg=GridSearchCV(regressor,param_grid=parameter,cv=5,scoring='neg_root_mean_squared_error',verbose=3)\n",
        "reg.fit(X_train,y_train)"
      ]
    },
    {
      "cell_type": "code",
      "execution_count": 23,
      "metadata": {
        "colab": {
          "base_uri": "https://localhost:8080/"
        },
        "id": "mBTU16Vu_Dxc",
        "outputId": "244754c0-744f-4772-b2bf-18872771122f"
      },
      "outputs": [
        {
          "data": {
            "text/plain": [
              "{'alpha': 0.01, 'learning_rate': 1, 'n_estimators': 300}"
            ]
          },
          "execution_count": 23,
          "metadata": {},
          "output_type": "execute_result"
        }
      ],
      "source": [
        "reg.best_params_"
      ]
    },
    {
      "cell_type": "code",
      "execution_count": 24,
      "metadata": {
        "colab": {
          "base_uri": "https://localhost:8080/",
          "height": 74
        },
        "id": "l49c7oRE_D1h",
        "outputId": "8065c974-eb6e-4061-84b8-5537d6f4c7ea"
      },
      "outputs": [
        {
          "data": {
            "text/html": [
              "<style>#sk-container-id-2 {color: black;}#sk-container-id-2 pre{padding: 0;}#sk-container-id-2 div.sk-toggleable {background-color: white;}#sk-container-id-2 label.sk-toggleable__label {cursor: pointer;display: block;width: 100%;margin-bottom: 0;padding: 0.3em;box-sizing: border-box;text-align: center;}#sk-container-id-2 label.sk-toggleable__label-arrow:before {content: \"▸\";float: left;margin-right: 0.25em;color: #696969;}#sk-container-id-2 label.sk-toggleable__label-arrow:hover:before {color: black;}#sk-container-id-2 div.sk-estimator:hover label.sk-toggleable__label-arrow:before {color: black;}#sk-container-id-2 div.sk-toggleable__content {max-height: 0;max-width: 0;overflow: hidden;text-align: left;background-color: #f0f8ff;}#sk-container-id-2 div.sk-toggleable__content pre {margin: 0.2em;color: black;border-radius: 0.25em;background-color: #f0f8ff;}#sk-container-id-2 input.sk-toggleable__control:checked~div.sk-toggleable__content {max-height: 200px;max-width: 100%;overflow: auto;}#sk-container-id-2 input.sk-toggleable__control:checked~label.sk-toggleable__label-arrow:before {content: \"▾\";}#sk-container-id-2 div.sk-estimator input.sk-toggleable__control:checked~label.sk-toggleable__label {background-color: #d4ebff;}#sk-container-id-2 div.sk-label input.sk-toggleable__control:checked~label.sk-toggleable__label {background-color: #d4ebff;}#sk-container-id-2 input.sk-hidden--visually {border: 0;clip: rect(1px 1px 1px 1px);clip: rect(1px, 1px, 1px, 1px);height: 1px;margin: -1px;overflow: hidden;padding: 0;position: absolute;width: 1px;}#sk-container-id-2 div.sk-estimator {font-family: monospace;background-color: #f0f8ff;border: 1px dotted black;border-radius: 0.25em;box-sizing: border-box;margin-bottom: 0.5em;}#sk-container-id-2 div.sk-estimator:hover {background-color: #d4ebff;}#sk-container-id-2 div.sk-parallel-item::after {content: \"\";width: 100%;border-bottom: 1px solid gray;flex-grow: 1;}#sk-container-id-2 div.sk-label:hover label.sk-toggleable__label {background-color: #d4ebff;}#sk-container-id-2 div.sk-serial::before {content: \"\";position: absolute;border-left: 1px solid gray;box-sizing: border-box;top: 0;bottom: 0;left: 50%;z-index: 0;}#sk-container-id-2 div.sk-serial {display: flex;flex-direction: column;align-items: center;background-color: white;padding-right: 0.2em;padding-left: 0.2em;position: relative;}#sk-container-id-2 div.sk-item {position: relative;z-index: 1;}#sk-container-id-2 div.sk-parallel {display: flex;align-items: stretch;justify-content: center;background-color: white;position: relative;}#sk-container-id-2 div.sk-item::before, #sk-container-id-2 div.sk-parallel-item::before {content: \"\";position: absolute;border-left: 1px solid gray;box-sizing: border-box;top: 0;bottom: 0;left: 50%;z-index: -1;}#sk-container-id-2 div.sk-parallel-item {display: flex;flex-direction: column;z-index: 1;position: relative;background-color: white;}#sk-container-id-2 div.sk-parallel-item:first-child::after {align-self: flex-end;width: 50%;}#sk-container-id-2 div.sk-parallel-item:last-child::after {align-self: flex-start;width: 50%;}#sk-container-id-2 div.sk-parallel-item:only-child::after {width: 0;}#sk-container-id-2 div.sk-dashed-wrapped {border: 1px dashed gray;margin: 0 0.4em 0.5em 0.4em;box-sizing: border-box;padding-bottom: 0.4em;background-color: white;}#sk-container-id-2 div.sk-label label {font-family: monospace;font-weight: bold;display: inline-block;line-height: 1.2em;}#sk-container-id-2 div.sk-label-container {text-align: center;}#sk-container-id-2 div.sk-container {/* jupyter's `normalize.less` sets `[hidden] { display: none; }` but bootstrap.min.css set `[hidden] { display: none !important; }` so we also need the `!important` here to be able to override the default hidden behavior on the sphinx rendered scikit-learn.org. See: https://github.com/scikit-learn/scikit-learn/issues/21755 */display: inline-block !important;position: relative;}#sk-container-id-2 div.sk-text-repr-fallback {display: none;}</style><div id=\"sk-container-id-2\" class=\"sk-top-container\"><div class=\"sk-text-repr-fallback\"><pre>GradientBoostingRegressor(alpha=0.01, learning_rate=1, n_estimators=300)</pre><b>In a Jupyter environment, please rerun this cell to show the HTML representation or trust the notebook. <br />On GitHub, the HTML representation is unable to render, please try loading this page with nbviewer.org.</b></div><div class=\"sk-container\" hidden><div class=\"sk-item\"><div class=\"sk-estimator sk-toggleable\"><input class=\"sk-toggleable__control sk-hidden--visually\" id=\"sk-estimator-id-4\" type=\"checkbox\" checked><label for=\"sk-estimator-id-4\" class=\"sk-toggleable__label sk-toggleable__label-arrow\">GradientBoostingRegressor</label><div class=\"sk-toggleable__content\"><pre>GradientBoostingRegressor(alpha=0.01, learning_rate=1, n_estimators=300)</pre></div></div></div></div></div>"
            ],
            "text/plain": [
              "GradientBoostingRegressor(alpha=0.01, learning_rate=1, n_estimators=300)"
            ]
          },
          "execution_count": 24,
          "metadata": {},
          "output_type": "execute_result"
        }
      ],
      "source": [
        "reg.best_estimator_"
      ]
    },
    {
      "cell_type": "code",
      "execution_count": 25,
      "metadata": {
        "colab": {
          "base_uri": "https://localhost:8080/"
        },
        "id": "zbZIFLwnDIkM",
        "outputId": "f42325d0-b056-4db3-c74f-e86a254f0573"
      },
      "outputs": [
        {
          "data": {
            "text/plain": [
              "-2908.3123485483243"
            ]
          },
          "execution_count": 25,
          "metadata": {},
          "output_type": "execute_result"
        }
      ],
      "source": [
        "reg.best_score_"
      ]
    },
    {
      "cell_type": "code",
      "execution_count": 26,
      "metadata": {
        "colab": {
          "base_uri": "https://localhost:8080/"
        },
        "id": "liaP7pMP_D4M",
        "outputId": "c667f59b-14f0-40e7-80e8-6ba23819d61b"
      },
      "outputs": [
        {
          "data": {
            "text/plain": [
              "array([4074.45735966])"
            ]
          },
          "execution_count": 26,
          "metadata": {},
          "output_type": "execute_result"
        }
      ],
      "source": [
        "reg.best_estimator_.predict([X_test[10]])"
      ]
    },
    {
      "cell_type": "code",
      "execution_count": 27,
      "metadata": {
        "id": "yy5XpvS9DXHE"
      },
      "outputs": [],
      "source": [
        "y_pred=reg.best_estimator_.predict(X_test)\n",
        "mse=mean_squared_error(y_test,y_pred)\n",
        "rmse=np.sqrt(mse)"
      ]
    },
    {
      "cell_type": "code",
      "execution_count": 28,
      "metadata": {
        "colab": {
          "base_uri": "https://localhost:8080/"
        },
        "id": "7hi4Y9e5Dejq",
        "outputId": "2aa7e186-d105-48e4-db46-30789e584615"
      },
      "outputs": [
        {
          "data": {
            "text/plain": [
              "2924.1750358464274"
            ]
          },
          "execution_count": 28,
          "metadata": {},
          "output_type": "execute_result"
        }
      ],
      "source": [
        "rmse"
      ]
    }
  ],
  "metadata": {
    "colab": {
      "provenance": []
    },
    "kernelspec": {
      "display_name": "Python 3",
      "name": "python3"
    },
    "language_info": {
      "codemirror_mode": {
        "name": "ipython",
        "version": 3
      },
      "file_extension": ".py",
      "mimetype": "text/x-python",
      "name": "python",
      "nbconvert_exporter": "python",
      "pygments_lexer": "ipython3",
      "version": "3.8.0"
    }
  },
  "nbformat": 4,
  "nbformat_minor": 0
}
